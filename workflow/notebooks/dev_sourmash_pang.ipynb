{
 "cells": [
  {
   "cell_type": "markdown",
   "metadata": {},
   "source": [
    "## Try and change the pangenome plugin so that it reflects the same categories for kmers as roary\n",
    "Numbers are slightly different for what is core, etc"
   ]
  },
  {
   "cell_type": "code",
   "execution_count": null,
   "metadata": {
    "vscode": {
     "languageId": "shellscript"
    }
   },
   "outputs": [],
   "source": [
    "# create an env\n",
    "mamba activate pangenomics_dev"
   ]
  },
  {
   "cell_type": "code",
   "execution_count": null,
   "metadata": {
    "vscode": {
     "languageId": "shellscript"
    }
   },
   "outputs": [],
   "source": [
    "# git clone the repo\n",
    "git clone https://github.com/dib-lab/sourmash_plugin_pangenomics.git\n",
    "\n",
    "# update with latest yml in this repo\n",
    "conda env update -f environment.yml\n",
    "\n",
    "# install with pip install -e (editable)\n",
    "# -m uses path that mamba uses\n",
    "python -m pip install -e ."
   ]
  },
  {
   "cell_type": "code",
   "execution_count": null,
   "metadata": {
    "vscode": {
     "languageId": "shellscript"
    }
   },
   "outputs": [],
   "source": [
    "        # current\n",
    "        central_core_threshold = 0.95  # 0.95 is core , 90% is technically soft core\n",
    "        external_core_threshold = 0.90\n",
    "        shell_threshold = 0.10  # 0.10\n",
    "        inner_cloud_threshold = 0.01  # 0.0 is the full cloud, but trimming (0.001?) may be necessary to create the viz...?\n",
    "        surface_cloud_threshold = 0.00\n",
    "\n",
    "        # roary\n",
    "        core_threshold = 0.99  # 0.95 is core , 90% is technically soft core\n",
    "        soft_core_threshold = 0.95\n",
    "        shell_threshold = 0.15  # 0.10\n",
    "        cloud_threshold = 0.00\n"
   ]
  }
 ],
 "metadata": {
  "language_info": {
   "name": "python"
  }
 },
 "nbformat": 4,
 "nbformat_minor": 2
}
