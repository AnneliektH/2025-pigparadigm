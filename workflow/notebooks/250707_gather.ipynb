{
 "cells": [
  {
   "cell_type": "markdown",
   "id": "b08268c0",
   "metadata": {},
   "source": [
    "### Running gather\n",
    "Want to compare:\n",
    "human: 2850\n",
    "pig: 3217\n",
    "- GTDB reps\n",
    "- GTDB all\n",
    "- fungi\n",
    "- mags (alone, drep) (done/done)\n",
    "- MAGs all + GTDB all (done/done)\n",
    "- MAGs99 + GTDB reps \n",
    "- animal + plant (done/done)\n",
    "- protozoa\n"
   ]
  },
  {
   "cell_type": "code",
   "execution_count": null,
   "id": "65dbd6ca",
   "metadata": {
    "vscode": {
     "languageId": "shellscript"
    }
   },
   "outputs": [],
   "source": [
    "# accidentally did part of gtdb_genomes. moved results to: \n",
    "/group/ctbrowngrp2/amhorst/2025-pigparadigm/results/sourmash/check/gtdb_genomes/\n",
    "/group/ctbrowngrp2/amhorst/2025-pigparadigm/results/sourmash/gather_huma/gtdb_genomes\n",
    "/group/ctbrowngrp2/amhorst/2025-pigparadigm/results/sourmash/gather/gtdb_genomes\n"
   ]
  },
  {
   "cell_type": "code",
   "execution_count": null,
   "id": "042a6161",
   "metadata": {
    "vscode": {
     "languageId": "shellscript"
    }
   },
   "outputs": [],
   "source": [
    "# merge signatures. \n",
    "srun --account=ctbrowngrp -p med2 -J calc-pres -t 4:00:00 -c 24 --mem=80gb --pty bash\n",
    "\n",
    "# run the script\n",
    "mamba activate branchwater-skipmer\n",
    "\n",
    "sourmash sig merge MAGs.all.zip -k 21 -o MAGs.all.merged.zip"
   ]
  },
  {
   "cell_type": "markdown",
   "id": "8e97c5fc",
   "metadata": {},
   "source": []
  },
  {
   "cell_type": "code",
   "execution_count": null,
   "id": "46e68081",
   "metadata": {
    "vscode": {
     "languageId": "shellscript"
    }
   },
   "outputs": [],
   "source": [
    "# calculate hash presence for all 3217 metagenomes\n",
    "srun --account=ctbrowngrp -p bmm -J calc-pres -t 8:00:00 -c 120 --mem=120gb --pty bash\n",
    "\n",
    "# run the script\n",
    "mamba activate branchwater-skipmer\n",
    "snakemake --use-conda --resources mem_mb=120000 --rerun-triggers mtime \\\n",
    "-c 120 --rerun-incomplete -k -s gather.smk -n"
   ]
  },
  {
   "cell_type": "markdown",
   "id": "419395ea",
   "metadata": {},
   "source": [
    "snakemake --use-conda --resources mem_mb=120000 --rerun-triggers mtime \\\n",
    "-c 120 --rerun-incomplete -k -s gather_human.smk -n"
   ]
  },
  {
   "cell_type": "code",
   "execution_count": null,
   "id": "894c49d5",
   "metadata": {
    "vscode": {
     "languageId": "shellscript"
    }
   },
   "outputs": [],
   "source": [
    "# calculate hash presence for all 3217 metagenomes\n",
    "srun --account=ctbrowngrp -p med2 -J calc-pres -t 4:00:00 -c 120 --mem=100gb --pty bash\n",
    "\n",
    "# run the script\n",
    "mamba activate branchwater-skipmer\n",
    "snakemake --use-conda --resources mem_mb=100000 --rerun-triggers mtime \\\n",
    "-c 120 --rerun-incomplete -k -s gather_human.smk -n\n",
    "\n",
    "snakemake --use-conda --resources mem_mb=120000 --rerun-triggers mtime \\\n",
    "-c 120 --rerun-incomplete -k -s gather_pangenomedb.smk -n"
   ]
  },
  {
   "cell_type": "markdown",
   "id": "3c0f029f",
   "metadata": {},
   "source": [
    "## Gather against GTDB\n",
    "- It seems that gtdb all genomes performs pretty well. \n",
    "- Make pangenomedb from GTDB genomes and run against human and pig samples\n",
    "- Also subtract the hashes in all pig gut from the GTDB. --> How much is already contained in there?\n",
    "- Do gather against protozoa and fungi. "
   ]
  },
  {
   "cell_type": "code",
   "execution_count": null,
   "id": "28014106",
   "metadata": {
    "vscode": {
     "languageId": "shellscript"
    }
   },
   "outputs": [],
   "source": [
    "ANIMAL_PLANT_DB_K51 = '/group/ctbrowngrp5/sourmash-db/entire-2025-01-21/animals_plants-2025-01-21.k51.rocksdb'\n",
    "ALL_PANG = '/group/ctbrowngrp2/amhorst/2025-pigparadigm/results/sketches/MAGs.all.pangenomedb.k21.zip'\n",
    "ALL_MAG = '/group/ctbrowngrp2/amhorst/2025-pigparadigm/results/sketches/MAGs.all.zip'\n",
    "MAG95 = '/group/ctbrowngrp2/amhorst/2025-pigparadigm/results/sketches/MAGs.95.pangenomedb.zip'\n",
    "MAG99 = '/group/ctbrowngrp2/amhorst/2025-pigparadigm/results/sketches/MAGs.99.pangenomedb.zip'\n",
    "GTDB = '/group/ctbrowngrp5/sourmash-db/gtdb-rs226/gtdb-rs226.k21.rocksdb'\n",
    "GTDB_REPS = '/group/ctbrowngrp5/sourmash-db/gtdb-rs226/gtdb-rs226-reps.k21.rocksdb'\n",
    "FUNGI = '/group/ctbrowngrp5/sourmash-db/genbank-euks-2024.01/fungi.k21.sig.zip'"
   ]
  },
  {
   "cell_type": "markdown",
   "id": "4ca5ae29",
   "metadata": {},
   "source": [
    "## Gather will also need to be done for the human samples\n",
    "- On GTDB only (done)\n",
    "- On MAGs only\n",
    "- On MAGs + GTDB"
   ]
  },
  {
   "cell_type": "code",
   "execution_count": null,
   "id": "2f6b1886",
   "metadata": {
    "vscode": {
     "languageId": "shellscript"
    }
   },
   "outputs": [],
   "source": [
    "# calculate hash presence for all 2849 human metagenomes\n",
    "srun --account=ctbrowngrp -p med2 -J calc-pres -t 6:00:00 -c 32 --mem=100gb --pty bash\n",
    "# run the script\n",
    "mamba activate branchwater-skipmer\n",
    "snakemake --use-conda --resources mem_mb=80000 --rerun-triggers mtime \\\n",
    "-c 60 --rerun-incomplete -k -s gather_human.smk -n\n",
    "\n",
    "snakemake --use-conda --resources mem_mb=100000 --rerun-triggers mtime \\\n",
    "-c 32 --rerun-incomplete -k -s gather_human.smk -n\n",
    "\n",
    "mamba activate branchwater-skipmer\n",
    "snakemake --use-conda --resources mem_mb=100000 --rerun-triggers mtime \\\n",
    "-c 32 --rerun-incomplete -k -s gather.smk -n"
   ]
  },
  {
   "cell_type": "code",
   "execution_count": null,
   "id": "136fc6eb",
   "metadata": {
    "vscode": {
     "languageId": "shellscript"
    }
   },
   "outputs": [],
   "source": [
    "sourmash gather /group/ctbrowngrp/irber/data/wort-data/wort-sra/sigs/SRR27029883.sig /group/ctbrowngrp2/amhorst/2025-pigparadigm/results/compare_gtdb_mags/gtdb-rs226.pangenomedb.10k.zip --create-empty-results        -k 21 --scaled 10000 -o ../results/sourmash_human/gather/SRR27029883.gtdb.k21.csv && touch ../results/sourmash_human/check/SRR27029883.gtdb.k21.check"
   ]
  },
  {
   "cell_type": "code",
   "execution_count": null,
   "id": "5459c312",
   "metadata": {
    "vscode": {
     "languageId": "shellscript"
    }
   },
   "outputs": [],
   "source": [
    "# calculate hash presence for all 2849 human metagenomes\n",
    "srun --account=ctbrowngrp -p med2 -J calc-pres -t 4:00:00 -c 100 --mem=120gb --pty bash\n",
    "srun --account=ctbrowngrp -p med2 -J calc-pres -t 2:00:00 -c 8 --mem=80gb --pty bash\n",
    "\n",
    "\n",
    "# run the script\n",
    "mamba activate branchwater-skipmer\n",
    "snakemake --use-conda --resources mem_mb=120000 --rerun-triggers mtime \\\n",
    "-c 100 --rerun-incomplete -k -s gather_human.smk -n\n",
    "\n",
    "mamba activate branchwater-skipmer\n",
    "snakemake --use-conda --resources mem_mb=80000 --rerun-triggers mtime \\\n",
    "-c 8 --rerun-incomplete -k -s gather.smk -n"
   ]
  },
  {
   "cell_type": "code",
   "execution_count": null,
   "id": "7fead1f1",
   "metadata": {
    "vscode": {
     "languageId": "shellscript"
    }
   },
   "outputs": [],
   "source": [
    "# Using a script to sum all f_unique_qeighted for all these\n",
    "python count_funique_weighted.py"
   ]
  },
  {
   "cell_type": "code",
   "execution_count": null,
   "id": "adf4a142",
   "metadata": {
    "vscode": {
     "languageId": "shellscript"
    }
   },
   "outputs": [],
   "source": []
  },
  {
   "cell_type": "markdown",
   "id": "11d9e862",
   "metadata": {},
   "source": [
    "## Concatenate the gather output\n",
    "- Count what species are found the most times (presence absence)\n",
    "- Subset the human results to only usable metaGs. \n"
   ]
  },
  {
   "cell_type": "code",
   "execution_count": null,
   "id": "3b85f3b8",
   "metadata": {
    "vscode": {
     "languageId": "shellscript"
    }
   },
   "outputs": [],
   "source": [
    "# move human metaG results for good metags\n",
    "\n",
    "while read basename; do\n",
    "  mv /group/ctbrowngrp2/amhorst/2025-pigparadigm/results/sourmash/gather_human/\"$basename\"* /group/ctbrowngrp2/amhorst/2025-pigparadigm/results/sourmash/gather_human_good/\n",
    "done < metag-wort-human-good.txt\n"
   ]
  },
  {
   "cell_type": "code",
   "execution_count": null,
   "id": "71df36e7",
   "metadata": {
    "vscode": {
     "languageId": "shellscript"
    }
   },
   "outputs": [],
   "source": [
    "# count the gather sums for the gtdb outputs \n",
    "# need species counts for humans and pigs\n",
    "srun --account=ctbrowngrp -p med2 -J calc-gather -t 1:00:00 -c 2 --mem=100gb --pty bash\n",
    "\n",
    "mamba activate pangenomics_dev\n",
    "\n",
    "\n",
    "sourmash scripts gather_tables \\\n",
    "gather/*.gtdb.csv \\\n",
    "-c \"intersect_bp\" -p \\\n",
    "-o 250813_gatherout.gtdb.species.pig.csv \n",
    "\n",
    "sourmash scripts gather_tables \\\n",
    "gather/*.mags_and_gtdb.csv \\\n",
    "-c \"intersect_bp\" -p \\\n",
    "-o 250813_gatherout.gtdbmags.species.pig.csv \n",
    "\n",
    "sourmash scripts gather_tables \\\n",
    "gather/*.gtdb.csv \\\n",
    "-c \"f_unique_weighted\" \\\n",
    "-o 250813_gatherout.gtdb.species.pig_funique.csv \n",
    "\n",
    "sourmash scripts gather_tables \\\n",
    "gather/*.mags_and_gtdb.csv \\\n",
    "-c \"f_unique_weighted\" -l species -t ../ \\\n",
    "-o 250813_gatherout.gtdbmags.species.pig_funique.csv \n",
    "\n",
    "\n",
    "\n",
    "\n",
    "\n",
    "\n"
   ]
  },
  {
   "cell_type": "code",
   "execution_count": null,
   "id": "5ae17183",
   "metadata": {
    "vscode": {
     "languageId": "shellscript"
    }
   },
   "outputs": [],
   "source": [
    "# Maybe make a table at each phylogenetic level. "
   ]
  },
  {
   "cell_type": "code",
   "execution_count": null,
   "id": "7d27fc53",
   "metadata": {
    "vscode": {
     "languageId": "shellscript"
    }
   },
   "outputs": [],
   "source": [
    "# need some sort of tax file\n",
    "csvtk concat /group/ctbrowngrp5/sourmash-db/gtdb-rs226/gtdb-rs226-reps.lineages.csv \\\n",
    "/group/ctbrowngrp2/amhorst/2025-pigparadigm/results/MAGs/250528_mag_tax.csv > 250602_taxgtdb.pig.csv\n",
    "\n",
    "sed 's/$/,/' 250602_taxgtdb.pig.csv > 250602_taxgtdb.st.pig.csv"
   ]
  },
  {
   "cell_type": "code",
   "execution_count": null,
   "id": "96ec6872",
   "metadata": {
    "vscode": {
     "languageId": "shellscript"
    }
   },
   "outputs": [],
   "source": [
    "# could i do fastmultigather?\n",
    "# index as rocksdb?\n",
    "\n",
    "mamba activate branchwater-skipmer\n",
    "sourmash index gtdb-rs226-reps.pangenomedb.rocksdb -F rocksdb -k 21 gtdb-rs226-reps.pangenomedb.10k.zip\n",
    "\n",
    "\n",
    "srun --account=ctbrowngrp -p med2 -J calc-pres -t 1:00:00 -c 1 --mem=50gb --pty bash\n"
   ]
  },
  {
   "cell_type": "code",
   "execution_count": null,
   "id": "897b09cf",
   "metadata": {
    "vscode": {
     "languageId": "shellscript"
    }
   },
   "outputs": [],
   "source": [
    "srun --account=ctbrowngrp -p med2 -J fmg -t 1:00:00 -c 100 --mem=100gb --pty bash\n",
    "\n",
    "# do fmg against a concatenated database\n",
    "sourmash scripts fastmultigather \\\n",
    "/group/ctbrowngrp2/amhorst/2025-pigparadigm/resources/3217_metag.txt \\\n",
    "MAGs.all_k31.merged.zip -k 31 -s 10000 -c 100 -o 250808_fmg_MAGs_merged.csv\n",
    "\n"
   ]
  },
  {
   "cell_type": "code",
   "execution_count": null,
   "id": "c4ea2ca6",
   "metadata": {
    "vscode": {
     "languageId": "shellscript"
    }
   },
   "outputs": [],
   "source": [
    "# do fmg against the non-concatenated databases, for 50 metagenomes first\n",
    "# Maybe even 10? The results just need to be the same as from merged\n",
    "srun --account=ctbrowngrp -p med2 -J fmg -t 02:00:00 -c 100 --mem=80gb --pty bash\n",
    "mamba activate branchwater-skipmer\n",
    "\n",
    "# gtdb reps\n",
    "sourmash scripts fastmultigather \\\n",
    "/group/ctbrowngrp2/amhorst/2025-pigparadigm/resources/100_metag.txt \\\n",
    "/group/ctbrowngrp5/sourmash-db/gtdb-rs226/gtdb-rs226-reps.k21.rocksdb \\\n",
    " -k 21 -s 10000 -c 100 -t 0 -o 250731_fmg_gtdb-reps_t0.csv -q\n",
    "\n",
    "# gtdb genomes\n",
    "sourmash scripts fastmultigather \\\n",
    "/group/ctbrowngrp2/amhorst/2025-pigparadigm/resources/100_metag.txt \\\n",
    "/group/ctbrowngrp5/sourmash-db/gtdb-rs226/gtdb-rs226.k21.rocksdb \\\n",
    " -k 21 -s 10000 -c 100 -t 0 -o 250731_fmg_gtdb-genomes_t0.csv -q\n",
    "\n",
    "# MAGs\n",
    "sourmash scripts fastmultigather \\\n",
    "/group/ctbrowngrp2/amhorst/2025-pigparadigm/resources/100_metag.txt \\\n",
    "/group/ctbrowngrp2/amhorst/2025-pigparadigm/results/sketches/MAGs.all.rocksdb \\\n",
    " -k 21 -s 10000 -c 100 -t 0 -o 250731_fmg_MAGs_t0.csv -q"
   ]
  },
  {
   "cell_type": "code",
   "execution_count": null,
   "id": "9e108ebf",
   "metadata": {
    "vscode": {
     "languageId": "shellscript"
    }
   },
   "outputs": [],
   "source": [
    "/group/ctbrowngrp2/amhorst/2025-pigparadigm/results/sketches/MAGs.all.merged.rocksdb\n",
    "sourmash scripts fastmultigather \\\n",
    "/group/ctbrowngrp2/amhorst/2025-pigparadigm/resources/3217_metag.txt \\\n",
    "/group/ctbrowngrp2/amhorst/2025-pigparadigm/results/sketches/MAGs.all.merged.rocksdb \\\n",
    " -k 21 -s 10000 -c 100  -o 250731_fmg_MAGs.merged.csv -q\n",
    "\n",
    "\n",
    "sourmash scripts fastmultigather \\\n",
    "/group/ctbrowngrp2/amhorst/2025-pigparadigm/resources/3217_metag.txt \\\n",
    "/group/ctbrowngrp2/amhorst/2025-pigparadigm/results/sketches/MAGs.all.merged.rocksdb \\\n",
    " -k 21 -s 10000 -c 100 -t 0 -o 250731_fmg_MAGs.merged.t0.csv -q"
   ]
  },
  {
   "cell_type": "code",
   "execution_count": null,
   "id": "11cccd73",
   "metadata": {
    "vscode": {
     "languageId": "shellscript"
    }
   },
   "outputs": [],
   "source": [
    "# gotta redo the gather for mags-nonmerged bc it gives merged results\n",
    "sourmash scripts fastmultigather \\\n",
    "/group/ctbrowngrp2/amhorst/2025-pigparadigm/resources/3217_metag.txt \\\n",
    "/group/ctbrowngrp2/amhorst/2025-pigparadigm/results/sketches/MAGs.all.rocksdb \\\n",
    " -k 21 -s 10000 -c 100 -o 250801_fmg_MAGs.nonmerged.csv -q\n",
    "\n",
    " # same for 99 and 95\n",
    "sourmash index MAGs.99.rocksdb -F rocksdb -k 21 MAGs.99.zip\n",
    "sourmash index MAGs.95.rocksdb -F rocksdb -k 21 MAGs.95.zip\n",
    "\n"
   ]
  },
  {
   "cell_type": "code",
   "execution_count": null,
   "id": "dd482049",
   "metadata": {
    "vscode": {
     "languageId": "shellscript"
    }
   },
   "outputs": [],
   "source": []
  }
 ],
 "metadata": {
  "language_info": {
   "name": "python"
  }
 },
 "nbformat": 4,
 "nbformat_minor": 5
}
