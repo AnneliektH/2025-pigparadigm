{
 "cells": [
  {
   "cell_type": "markdown",
   "id": "44e9a903",
   "metadata": {},
   "source": [
    "### Metapangenome of important spp\n",
    "- For these 15 spp that are universally in pig gut: How many hashes from here are shared with pig?\n",
    "- How many of the hashes are never in pig?\n",
    "\n",
    "Colton has ranktables per each species. Can use hash_tables from tables plugin to see this"
   ]
  },
  {
   "cell_type": "code",
   "execution_count": null,
   "id": "faa8ee0c",
   "metadata": {
    "vscode": {
     "languageId": "powershell"
    }
   },
   "outputs": [],
   "source": [
    "mamba activate pangenomics_dev\n",
    "# make ranktable \n",
    "sourmash scripts pangenome_ranktable -k 31 \\\n",
    "sourmash/Lactobacillus_amylovorus.merged.k31.zip \\\n",
    "-o ../ranktables/Lactobacillus_amylovorus.k31.ranktable.tsv\n",
    "\n",
    "\n",
    "# verbose info \n",
    "sourmash info -v\n",
    "\n",
    "# then do hash_tables with the 3126 metagenomes \n",
    "sourmash scripts hash_tables --help"
   ]
  },
  {
   "cell_type": "code",
   "execution_count": null,
   "id": "c0701cdf",
   "metadata": {
    "vscode": {
     "languageId": "powershell"
    }
   },
   "outputs": [],
   "source": [
    "mamba activate pangenomics_dev\n",
    "# make ranktable \n",
    "sourmash scripts pangenome_ranktable -k 31 \\\n",
    "sourmash/Lactobacillus_amylovorus.merged.k31.zip \\\n",
    "-o ../ranktables/Lactobacillus_amylovorus.k31.ranktable.tsv\n",
    "\n",
    "# then do hash_tables with the 3216 metagenomes \n",
    "# get a folder of all the metagenomes. Then point at it with folder/*.sig\n",
    "# /group/ctbrowngrp2/amhorst/2025-pigparadigm/results/sketches/metag/*.sig\n",
    "mamba activate pangenomics_dev\n",
    "sourmash scripts hash_tables \\\n",
    "Lactobacillus_amylovorus.k31.ranktable.csv ../sketches/metag/*.sig"
   ]
  },
  {
   "cell_type": "code",
   "execution_count": null,
   "id": "7b62107d",
   "metadata": {
    "vscode": {
     "languageId": "powershell"
    }
   },
   "outputs": [],
   "source": [
    "srun --account=ctbrowngrp -p bmm -J branchwater -t 5:00:00 -c 64 --mem=100gb --pty bash\n",
    "\n",
    "# doing one metag at a time\n",
    "mamba activate branchwater-skipmer\n",
    "snakemake --use-conda --resources mem_mb=100000 --rerun-triggers mtime \\\n",
    "-c 64 --rerun-incomplete -k -s hash_table.smk -n\n",
    "\n",
    "\n",
    "/usr/bin/time -v sourmash scripts hash_tables \\\n",
    "Lactobacillus_amylovorus.k31.ranktable.csv ../sketches/metag/*.sig -o Lactobacillus_amylovorus.k31.3216.csv"
   ]
  },
  {
   "cell_type": "code",
   "execution_count": null,
   "id": "71cd391c",
   "metadata": {
    "vscode": {
     "languageId": "powershell"
    }
   },
   "outputs": [],
   "source": [
    "# use tables to concatenate?\n",
    "srun --account=ctbrowngrp -p bmm -J metpg -t 2:00:00 -c 2 --mem=50gb --pty bash\n",
    "\n",
    "mamba activate branchwater-skipmer\n",
    "\n",
    "python sum_hashval.py"
   ]
  }
 ],
 "metadata": {
  "language_info": {
   "name": "python"
  }
 },
 "nbformat": 4,
 "nbformat_minor": 5
}
