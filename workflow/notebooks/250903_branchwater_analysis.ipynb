{
 "cells": [
  {
   "cell_type": "markdown",
   "id": "6a934105",
   "metadata": {},
   "source": [
    "## Species abundant in pig, what else do they occur in?\n",
    "There are 13 species that are together in 95% of the genomes:\n",
    "From these species we want:\n",
    "- sketch of all GTDB + all MAGs\n",
    "- sketch of just GTDB\n",
    "- subtracted sketch of all - GTDB\n",
    "- branchwater report for each species\n",
    "\n",
    "\n",
    "\n",
    "https://github.com/sourmash-bio/branchwater/blob/bdb92395c673bd444abf76ceed107b3c781f8395/crates/client/README.md?plain=1#L16\n",
    "https://github.com/sourmash-bio/branchwater/releases/tag/v0.3.0\n",
    "\n",
    "New release to include full results:\n",
    "curl --proto '=https' --tlsv1.2 -LsSf https://github.com/sourmash-bio/branchwater/releases/download/v0.4.0/branchwater-client-installer.sh | sh\n",
    "\n",
    "\n",
    "Using the branchwater: need .sig files. Make those. Then also use the merged signatures for metapangenome analysis: Query the ranktable of pangenome to the metagenomes: Get the hashes in >=3000 metagenomes, make into signature. The metapangenomes "
   ]
  },
  {
   "cell_type": "code",
   "execution_count": null,
   "id": "096a6024",
   "metadata": {
    "vscode": {
     "languageId": "shellscript"
    }
   },
   "outputs": [],
   "source": [
    "# With the core hashes of core spp: Do a branchwater search. \n",
    "# returns specifically gut metagenomes. Not pig gut. \n",
    "\n",
    "# How about all hashes that are in pig at least 1 time?\n",
    "# use coltons script \n",
    "https://github.com/ccbaumler/2025-sourmash-pangenome-scripts/blob/scripts/hash-set-to-sketch.py\n",
    "https://hackmd.io/@ccbaumler/S1OwZkgixg"
   ]
  },
  {
   "cell_type": "code",
   "execution_count": null,
   "id": "463fde70",
   "metadata": {
    "vscode": {
     "languageId": "shellscript"
    }
   },
   "outputs": [],
   "source": [
    "for i in $(ls -1 /group/ctbrowngrp2/amhorst/2025-pigparadigm/results/metapangenome/sum_count/) ; do python ./hash-set-to-sketch.py /group/ctbrowngrp2/amhorst/2025-pigparadigm/results/metapangenome/sum_count/$i -o /group/ctbrowngrp2/amhorst/2025-pigparadigm/results/metapangenome/sketches/${i%.*}.pres2.sig --filter-by 1 --filter-amount 2 -k21 ; done\n",
    "\n",
    "\n",
    "\n"
   ]
  },
  {
   "cell_type": "code",
   "execution_count": null,
   "id": "9849e182",
   "metadata": {
    "vscode": {
     "languageId": "shellscript"
    }
   },
   "outputs": [],
   "source": [
    "for i in $(ls -1 /group/ctbrowngrp2/amhorst/2025-pigparadigm/results/metapangenome/sum_count/) ; do python ./hash-set-to-sketch.py /group/ctbrowngrp2/amhorst/2025-pigparadigm/results/metapangenome/sum_count/$i -o /group/ctbrowngrp2/amhorst/2025-pigparadigm/results/metapangenome/sketches/${i%.*}.pres1.sig --filter-by 1 --filter-amount 1 -k21 ; done\n"
   ]
  },
  {
   "cell_type": "code",
   "execution_count": null,
   "id": "2171567c",
   "metadata": {
    "vscode": {
     "languageId": "shellscript"
    }
   },
   "outputs": [],
   "source": [
    "# run script to make sketches that are only present in a certain set of meetaGs\n",
    "for i in $(ls -1 /group/ctbrowngrp2/amhorst/2025-pigparadigm/results/metapangenome/sum_count/); do\n",
    "    python ./hash-set-to-sketch.py \\\n",
    "        /group/ctbrowngrp2/amhorst/2025-pigparadigm/results/metapangenome/sum_count/$i \\\n",
    "        -o /group/ctbrowngrp2/amhorst/2025-pigparadigm/results/metapangenome/sketches/${i%.*}.pres2500.sig \\\n",
    "        --filter-by 1 \\\n",
    "        --filter-amount 2500 \\\n",
    "        -k21\n",
    "done"
   ]
  },
  {
   "cell_type": "code",
   "execution_count": null,
   "id": "0f6f50e7",
   "metadata": {
    "vscode": {
     "languageId": "shellscript"
    }
   },
   "outputs": [],
   "source": [
    "# snakefile\n",
    "srun --account=ctbrowngrp -p bmm -J branchwater -t 2:00:00 -c 12 --mem=50gb --pty bash\n",
    "\n",
    "snakemake --use-conda --resources mem_mb=50000 --rerun-triggers mtime \\\n",
    "-c 12 --rerun-incomplete -k -s branchwater_only.smk -n"
   ]
  },
  {
   "cell_type": "code",
   "execution_count": null,
   "id": "dcbbac62",
   "metadata": {
    "vscode": {
     "languageId": "shellscript"
    }
   },
   "outputs": [],
   "source": [
    "# snakefile\n",
    "srun --account=ctbrowngrp -p med2 -J branchwater -t 2:00:00 -c 12 --mem=50gb --pty bash\n",
    "\n",
    "# snakemake\n",
    "snakemake --use-conda --resources mem_mb=50000 --rerun-triggers mtime \\\n",
    "-c 32 --rerun-incomplete -k -s branchwater_and_hashes.smk -n"
   ]
  },
  {
   "cell_type": "code",
   "execution_count": null,
   "id": "e0f8875f",
   "metadata": {
    "vscode": {
     "languageId": "shellscript"
    }
   },
   "outputs": [],
   "source": [
    "# can not get that to work: \n",
    "branchwater-client -m full --sig sourmash/Bariatricus_sp004560705.merge.k21.sig -o Bari.test.csv\n",
    "\n",
    "\n",
    "branchwater-client -m full --sig sourmash/Bariatricus_sp004560705.merge.k21.sig -o Bari.test.csv\n",
    "\n",
    "branchwater-client \\\n",
    "--sig /group/ctbrowngrp2/amhorst/2025-pigparadigm/results/branchwater/Fimisoma_sp002320005/sourmash/Fimisoma_sp002320005.merge.k21.sig \\\n",
    "--full --output /group/ctbrowngrp2/amhorst/2025-pigparadigm/results/branchwater/branchwater_analysis/Fimisoma_sp002320005.branchw.csv \n"
   ]
  },
  {
   "cell_type": "code",
   "execution_count": null,
   "metadata": {
    "vscode": {
     "languageId": "shellscript"
    }
   },
   "outputs": [],
   "source": [
    "# how about we first try without a snakefile\n",
    "\n",
    "# get all matching sigs gtdb\n",
    "# doesnt work bc we need the GCA numbers\n",
    "sourmash sig grep -i \"Fimisoma sp002320005\" \\\n",
    "/group/ctbrowngrp/sourmash-db/gtdb-rs226/gtdb-rs226.k31.sig.zip \\\n",
    "-k 31 -o Fimisoma_sp002320005.gtdb.zip\n",
    "\n",
    "# how about sig extract using that csv\n",
    "# usingg a python sctipt to get matching idents\n",
    "scripts/250903_extract_lineages.py \\"
   ]
  },
  {
   "cell_type": "code",
   "execution_count": null,
   "id": "c6663362",
   "metadata": {
    "vscode": {
     "languageId": "shellscript"
    }
   },
   "outputs": [],
   "source": [
    "# use the snakefile \n"
   ]
  },
  {
   "cell_type": "code",
   "execution_count": null,
   "id": "27d3f9a8",
   "metadata": {
    "vscode": {
     "languageId": "powershell"
    }
   },
   "outputs": [],
   "source": [
    "# sig extract (works)\n",
    "sourmash sig extract --picklist Fimisoma_sp002320005xgtdb.csv:ident:ident \\\n",
    "/group/ctbrowngrp/sourmash-db/gtdb-rs226/gtdb-rs226.k31.sig.zip -o Fimisoma_sp002320005xgtdb.zip\n",
    "\n",
    "# do same thing for mags\n",
    "\n",
    "\n"
   ]
  },
  {
   "cell_type": "code",
   "execution_count": null,
   "id": "0e2adae4",
   "metadata": {
    "vscode": {
     "languageId": "powershell"
    }
   },
   "outputs": [],
   "source": [
    "# running snake\n",
    "# redo gather\n",
    "# The results for th\n",
    "mamba activate branchwater-skipmer\n",
    "snakemake --use-conda --resources mem_mb=40000 --rerun-triggers mtime \\\n",
    "-c 24 --rerun-incomplete -k -s gather_pangenomedb.smk -n "
   ]
  },
  {
   "cell_type": "code",
   "execution_count": null,
   "id": "5b853f51",
   "metadata": {
    "vscode": {
     "languageId": "powershell"
    }
   },
   "outputs": [],
   "source": [
    "# cant we do sig grep if we just need the signature?\n",
    "# yes for gtdb :)\n",
    "sourmash signature grep -i shewanella tests/test-data/prot/all.zip -o shew.zip"
   ]
  },
  {
   "cell_type": "code",
   "execution_count": null,
   "id": "03af95f3",
   "metadata": {
    "vscode": {
     "languageId": "powershell"
    }
   },
   "outputs": [],
   "source": [
    "# update branchwater for CLI\n",
    "mamba activate branchwater\n",
    "mamba update -n branchwater sourmash_plugin_branchwater\n",
    "\n",
    "# install branchwater client\n",
    "curl --proto '=https' --tlsv1.2 -LsSf https://github.com/sourmash-bio/branchwater/releases/download/v0.3.0/branchwater-client-installer.sh | sh\n",
    "\n",
    "\n",
    "\n",
    "# install branchwater server\n",
    "curl --proto '=https' --tlsv1.2 -LsSf https://github.com/sourmash-bio/branchwater/releases/download/v0.3.0/branchwater-server-installer.sh | sh\n",
    "\n",
    "# install branchwater index \n",
    "curl --proto '=https' --tlsv1.2 -LsSf https://github.com/sourmash-bio/branchwater/releases/download/v0.3.0/branchwater-index-installer.sh | sh\n",
    "\n",
    "\n",
    "To add $HOME/.cargo/bin to your PATH, either restart your shell or run:\n",
    "\n",
    "    source $HOME/.cargo/env (sh, bash, zsh)\n",
    "    source $HOME/.cargo/env.fish (fish)"
   ]
  },
  {
   "cell_type": "code",
   "execution_count": null,
   "id": "30b07efb",
   "metadata": {
    "vscode": {
     "languageId": "powershell"
    }
   },
   "outputs": [],
   "source": [
    "# how does this work. \n",
    "# Can use --sig, k21 and scaled 1000\n",
    "# take bariatricus_sp004560705 as example, 68 MAGs. Merged sig? Doesnt say, can try both\n",
    "bariatricus_sp004560705"
   ]
  },
  {
   "cell_type": "code",
   "execution_count": null,
   "id": "ad96b1d7",
   "metadata": {
    "vscode": {
     "languageId": "powershell"
    }
   },
   "outputs": [],
   "source": [
    "# simplest thing we can do\n",
    "# this should be a merged sig (yes, 1 sketches with DNA, k=21, scaled=1000, 22594 total hashes)\n",
    "sourmash sketch dna MAGs/*.fasta \\\n",
    "-p k=21,scaled=1000 --name \"bariatricus_sp004560705\" -o bariatricus_sp004560705.allmerged.sig\n",
    "\n",
    "# this MAGs individually (68 sketches with DNA, k=21, scaled=1000, 172747 total hashe)\n",
    "sourmash sketch dna MAGs/*.fasta \\\n",
    "-p k=21,scaled=1000 -o bariatricus_sp004560705.all.sig"
   ]
  },
  {
   "cell_type": "code",
   "execution_count": null,
   "id": "b6d22258",
   "metadata": {
    "vscode": {
     "languageId": "powershell"
    }
   },
   "outputs": [],
   "source": [
    "# now branchwater. \n",
    "srun --account=ctbrowngrp -p bmm -J branchwater -t 2:00:00 -c 1 --mem=10gb --pty bash\n",
    "mamba activate branchwater\n",
    "\n",
    "# this works!\n",
    "branchwater-client bariatricus_sp004560705.fasta > bariatricus_sp004560705.csv\n",
    "branchwater-client -m full bariatricus_sp004560705.fasta > bariatricus_sp004560705.csv \n",
    "\n",
    "\n",
    "# this too with signature \n",
    "branchwater-client --sig bariatricus_sp004560705.allmerged.sig > bariatricus_sp004560705.sig.csv\n",
    "\n",
    "branchwater-client --sig bariatricus_sp004560705.all.sig > bariatricus_sp004560705.individ.sig.csv\n",
    "\n",
    "# get full results?\n",
    "branchwater-client --full --sig bariatricus_sp004560705.all.sig > bariatricus_sp004560705.individfull.sig.csv"
   ]
  }
 ],
 "metadata": {
  "language_info": {
   "name": "python"
  }
 },
 "nbformat": 4,
 "nbformat_minor": 5
}
