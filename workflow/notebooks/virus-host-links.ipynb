{
 "cells": [
  {
   "cell_type": "markdown",
   "metadata": {},
   "source": [
    "## Linking viruses to hosts\n",
    "- Predicting viral sequences using Genomad\n",
    "- Using Minced to predict spacer regions (minced.smk)\n",
    "- Need to use DRAM for functional annotation, and cas-genes"
   ]
  },
  {
   "cell_type": "code",
   "execution_count": null,
   "metadata": {
    "vscode": {
     "languageId": "shellscript"
    }
   },
   "outputs": [],
   "source": [
    "## Running minced\n",
    "# srun bc needs mem and time\n",
    "srun --account=ctbrowngrp -p high2 -J minced -t 1:00:00 -c 10 --mem=50gb --pty bash\n",
    "mamba activate minced\n",
    "\n",
    "snakemake -s minced.smk --use-conda --resources mem_mb=50000 --rerun-triggers mtime \\\n",
    "-c 10 --rerun-incomplete -k -n"
   ]
  },
  {
   "cell_type": "code",
   "execution_count": null,
   "metadata": {
    "vscode": {
     "languageId": "shellscript"
    }
   },
   "outputs": [],
   "source": [
    "# try cctyper:\n",
    "cctyper genome.fa output_dir -t {threads}"
   ]
  },
  {
   "cell_type": "code",
   "execution_count": null,
   "metadata": {
    "vscode": {
     "languageId": "shellscript"
    }
   },
   "outputs": [],
   "source": [
    "# all cctyper results ned to be concatenated:\n",
    "mamba activate csvtk\n",
    "csvtk concat -t */CRISPR_Cas.tab > ../250416_CRISPR_Cas.cctyper.tsv\n",
    "csvtk concat -t */cas_operons.tab > ../250416_cas_operons.cctyper.tsv\n",
    "csvtk concat -t */crisprs_all.tab > ../250416_crisprs_all.cctyper.tsv\n",
    "cat */spacers/*.fa > ../250416_spacers.ccytper.fa"
   ]
  },
  {
   "cell_type": "markdown",
   "metadata": {},
   "source": [
    "### CRISPR sequences of ETEC\n",
    "- Check if there are crispr-spacers in the etecs that are public\n",
    "- Download sequences (needs: accession,name)\n",
    "- Run minced\n",
    "- blast x votus"
   ]
  },
  {
   "cell_type": "code",
   "execution_count": null,
   "metadata": {
    "vscode": {
     "languageId": "shellscript"
    }
   },
   "outputs": [],
   "source": [
    "# download genomes\n",
    "srun --account=ctbrowngrp -p med2 -J gbsketch -t 1:00:00 -c 2 --mem=10gb --pty bash\n",
    "\n",
    "mamba activate branchwater-skipmer\n",
    "sourmash scripts gbsketch -c 2 \\\n",
    "--keep-fasta --genomes-only etec_genbank.csv \\\n",
    "-f etec_genomes --download-only --failed etec.fail.csv"
   ]
  },
  {
   "cell_type": "code",
   "execution_count": null,
   "metadata": {
    "vscode": {
     "languageId": "shellscript"
    }
   },
   "outputs": [],
   "source": [
    "# Run cctyper \n",
    "# download genomes\n",
    "srun --account=adamgrp -p high2 -J cctyper -t 8:00:00 -c 40 --mem=20gb --pty bash\n",
    "\n",
    "snakemake -s cctyper.smk --use-conda --resources mem_mb=20000 --rerun-triggers mtime \\\n",
    "-c 40 --rerun-incomplete -k -n"
   ]
  },
  {
   "cell_type": "code",
   "execution_count": null,
   "metadata": {
    "vscode": {
     "languageId": "shellscript"
    }
   },
   "outputs": [],
   "source": [
    "rule directsketch:\n",
    "    input:\n",
    "        csv = f\"{OUTPUT_DIR}/{pang_name_out}/{pang_name_out}xgtdb.csv\",\n",
    "    output:\n",
    "        sig = f\"{OUTPUT_DIR}/{pang_name_out}/sourmash/{pang_name_out}.gtdb.zip\",\n",
    "        failed_test = f\"{OUTPUT_DIR}/{pang_name_out}/check/{pang_name_out}.failed.csv\",\n",
    "        fail_checksum= f\"{OUTPUT_DIR}/{pang_name_out}/check/{pang_name_out}.checksum.failed.csv\",\n",
    "    conda: \n",
    "        \"branchwater-skipmer\"\n",
    "    threads: 10\n",
    "    params:\n",
    "        output_folder=f\"{OUTPUT_DIR}/{pang_name_out}/MAGs\"\n",
    "    shell:\n",
    "        \"\"\" \n",
    "        sourmash scripts gbsketch  --keep-fasta --genomes-only \\\n",
    "        {input.csv} -o {output.sig} -p dna,k=21,k=31,scaled=100,abund \\\n",
    "        -f {params.output_folder} -k -c {threads} \\\n",
    "        --failed {output.failed_test} -r 1 --checksum-fail {output.fail_checksum}"
   ]
  },
  {
   "cell_type": "markdown",
   "metadata": {},
   "source": [
    "## Making a blastdb from viral sequences:\n",
    "- Need to make a blastdb, then blast viruses to the spacers. "
   ]
  },
  {
   "cell_type": "code",
   "execution_count": null,
   "metadata": {
    "vscode": {
     "languageId": "shellscript"
    }
   },
   "outputs": [],
   "source": [
    "# blastdb\n",
    "# in: /group/ctbrowngrp2/amhorst/2025-pigparadigm/results/viral\n",
    "mkdir blastdb\n",
    "srun --account=ctbrowngrp -p high2 -J blastn -t 12:00:00 -c 24 --mem=100gb --pty bash\n",
    "\n",
    "# db\n",
    "mamba activate blast\n",
    "makeblastdb -in RVD_owncontigs.fa -dbtype nucl -out ./blastdb/RVD_owncontigs"
   ]
  },
  {
   "cell_type": "code",
   "execution_count": null,
   "metadata": {
    "vscode": {
     "languageId": "shellscript"
    }
   },
   "outputs": [],
   "source": [
    "\n",
    "# make a blastdb of all vOTU sequences (no dereplication, may be interesting strain diversity))\n",
    "srun --account=ctbrowngrp -p high2 -J blastn -t 4:00:00 -c 20 --mem=50gb --pty bash\n",
    "\n",
    "# make a db \n",
    "mamba activate blast\n",
    "makeblastdb -in 250419_viral_sequences.95.cluster.fa \\\n",
    "-dbtype nucl -out ./blastdb/250419_viral_sequences\n",
    "\n",
    "# Blast spacers to vOTUs \n",
    "blastn -task blastn-short -num_threads 24 \\\n",
    "-query ../crispr/250416_spacers.ccytper.fa \\\n",
    "-db ./blastdb/250419_viral_sequences \\\n",
    "-evalue 1e-5 -perc_identity 95 -outfmt 6 \\\n",
    "-out 250421_spacers_vOTUs.pig.cctyper \n",
    "\n",
    "# same for the etec genomes\n",
    "blastn -task blastn-short -num_threads 20 \\\n",
    "-query ../crispr/ETEC_crispr/250409_all_ETEC_spacers.fa \\\n",
    "-db ./blastdb/250419_viral_sequences \\\n",
    "-evalue 1e-5 -perc_identity 95 -outfmt 6 \\\n",
    "-out 250421_spacers_vOTUs.ETEC.cctyper "
   ]
  },
  {
   "cell_type": "code",
   "execution_count": null,
   "metadata": {
    "vscode": {
     "languageId": "shellscript"
    }
   },
   "outputs": [],
   "source": [
    "seqkit fx2tab -l -n 250419_plasmid_sequences.95.cluster.fa | awk '{print \">\"$1\"\\t\"$2}' > plasmid_lengths.txt\n"
   ]
  }
 ],
 "metadata": {
  "language_info": {
   "name": "python"
  }
 },
 "nbformat": 4,
 "nbformat_minor": 2
}
