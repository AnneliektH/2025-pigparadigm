{
 "cells": [
  {
   "cell_type": "markdown",
   "metadata": {},
   "source": [
    "## Linking viruses to hosts\n",
    "- Predicting viral sequences using Genomad\n",
    "- Using Minced to predict spacer regions (minced.smk)\n",
    "- Need to use DRAM for functional annotation, and cas-genes"
   ]
  },
  {
   "cell_type": "code",
   "execution_count": null,
   "metadata": {
    "vscode": {
     "languageId": "shellscript"
    }
   },
   "outputs": [],
   "source": [
    "## Running minced\n",
    "# srun bc needs mem and time\n",
    "srun --account=ctbrowngrp -p high -J minced -t 8:00:00 -c 10 --mem=50gb --pty bash\n",
    "mamba activate minced\n",
    "\n",
    "snakemake -s minced.smk --use-conda --resources mem_mb=50000 --rerun-triggers mtime \\\n",
    "-c 10 --rerun-incomplete -k -n"
   ]
  }
 ],
 "metadata": {
  "language_info": {
   "name": "python"
  }
 },
 "nbformat": 4,
 "nbformat_minor": 2
}
