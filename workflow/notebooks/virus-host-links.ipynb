{
 "cells": [
  {
   "cell_type": "markdown",
   "metadata": {},
   "source": [
    "## Linking viruses to hosts\n",
    "- Predicting viral sequences using Genomad\n",
    "- Using Minced to predict spacer regions (minced.smk)\n",
    "- Need to use DRAM for functional annotation, and cas-genes"
   ]
  },
  {
   "cell_type": "code",
   "execution_count": null,
   "metadata": {
    "vscode": {
     "languageId": "shellscript"
    }
   },
   "outputs": [],
   "source": [
    "## Running minced\n",
    "# srun bc needs mem and time\n",
    "srun --account=ctbrowngrp -p high2 -J minced -t 1:00:00 -c 10 --mem=50gb --pty bash\n",
    "mamba activate minced\n",
    "\n",
    "snakemake -s minced.smk --use-conda --resources mem_mb=50000 --rerun-triggers mtime \\\n",
    "-c 10 --rerun-incomplete -k -n"
   ]
  },
  {
   "cell_type": "code",
   "execution_count": null,
   "metadata": {
    "vscode": {
     "languageId": "shellscript"
    }
   },
   "outputs": [],
   "source": [
    "# try cctyper:\n",
    "cctyper genome.fa output_dir -t {threads}"
   ]
  },
  {
   "cell_type": "markdown",
   "metadata": {},
   "source": [
    "### CRISPR sequences of ETEC\n",
    "- Check if there are crispr-spacers in the etecs that are public\n",
    "- Download sequences (needs: accession,name)\n",
    "- Run minced\n",
    "- blast x votus"
   ]
  },
  {
   "cell_type": "code",
   "execution_count": null,
   "metadata": {
    "vscode": {
     "languageId": "shellscript"
    }
   },
   "outputs": [],
   "source": [
    "# download genomes\n",
    "srun --account=ctbrowngrp -p med2 -J gbsketch -t 1:00:00 -c 2 --mem=10gb --pty bash\n",
    "\n",
    "mamba activate branchwater-skipmer\n",
    "sourmash scripts gbsketch -c 2 \\\n",
    "--keep-fasta --genomes-only etec_genbank.csv \\\n",
    "-f etec_genomes --download-only --failed etec.fail.csv"
   ]
  },
  {
   "cell_type": "code",
   "execution_count": null,
   "metadata": {
    "vscode": {
     "languageId": "shellscript"
    }
   },
   "outputs": [],
   "source": [
    "# Run cctyper \n",
    "# download genomes\n",
    "srun --account=ctbrowngrp -p med2 -J cctyper -t 4:00:00 -c 12 --mem=20gb --pty bash\n",
    "\n",
    "snakemake -s cctyper.smk --use-conda --resources mem_mb=20000 --rerun-triggers mtime \\\n",
    "-c 12 --rerun-incomplete -k -n"
   ]
  },
  {
   "cell_type": "code",
   "execution_count": null,
   "metadata": {
    "vscode": {
     "languageId": "shellscript"
    }
   },
   "outputs": [],
   "source": [
    "rule directsketch:\n",
    "    input:\n",
    "        csv = f\"{OUTPUT_DIR}/{pang_name_out}/{pang_name_out}xgtdb.csv\",\n",
    "    output:\n",
    "        sig = f\"{OUTPUT_DIR}/{pang_name_out}/sourmash/{pang_name_out}.gtdb.zip\",\n",
    "        failed_test = f\"{OUTPUT_DIR}/{pang_name_out}/check/{pang_name_out}.failed.csv\",\n",
    "        fail_checksum= f\"{OUTPUT_DIR}/{pang_name_out}/check/{pang_name_out}.checksum.failed.csv\",\n",
    "    conda: \n",
    "        \"branchwater-skipmer\"\n",
    "    threads: 10\n",
    "    params:\n",
    "        output_folder=f\"{OUTPUT_DIR}/{pang_name_out}/MAGs\"\n",
    "    shell:\n",
    "        \"\"\" \n",
    "        sourmash scripts gbsketch  --keep-fasta --genomes-only \\\n",
    "        {input.csv} -o {output.sig} -p dna,k=21,k=31,scaled=100,abund \\\n",
    "        -f {params.output_folder} -k -c {threads} \\\n",
    "        --failed {output.failed_test} -r 1 --checksum-fail {output.fail_checksum}"
   ]
  },
  {
   "cell_type": "code",
   "execution_count": null,
   "metadata": {
    "vscode": {
     "languageId": "shellscript"
    }
   },
   "outputs": [],
   "source": [
    "# Making a blastdb of all the crispr sequences, or all the vir seqs?"
   ]
  }
 ],
 "metadata": {
  "language_info": {
   "name": "python"
  }
 },
 "nbformat": 4,
 "nbformat_minor": 2
}
