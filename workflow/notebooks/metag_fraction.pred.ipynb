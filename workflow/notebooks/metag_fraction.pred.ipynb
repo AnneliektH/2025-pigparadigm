{
 "cells": [
  {
   "cell_type": "markdown",
   "metadata": {},
   "source": [
    "### Sourmash vs bowtie2\n",
    "Interesting: \n",
    "Sourmash predicts approx half the amount that read mapping does, every time. Same for RGI. \n",
    "Want to try this with MAGs, and compare sourmash manysearch to read mapping with bowtie2.\n",
    "\n",
    "#### Steps:\n",
    "- Sketch 5 metags individually (R1, R2, merged) (have 3 already). Use sketch_individ_reads.smk\n",
    "- Create a bowtie2 db for all 95% ANI MAGs\n",
    "- Map reads to this (from 5 metaGs)\n",
    "- Manysearch against a concatenated db for all reads. \n",
    "\n"
   ]
  },
  {
   "cell_type": "code",
   "execution_count": null,
   "metadata": {
    "vscode": {
     "languageId": "shellscript"
    }
   },
   "outputs": [],
   "source": [
    "# MAG locations\n",
    "/group/ctbrowngrp2/scratch/annie/2024-pigparadigm/results/MAGs/drep.95/dereplicated_genomes/*.fasta\n",
    "\n",
    "# metaGs:\n",
    "/group/ctbrowngrp2/amhorst/2025-pigparadigm/results/sketches_metag"
   ]
  },
  {
   "cell_type": "code",
   "execution_count": null,
   "metadata": {
    "vscode": {
     "languageId": "shellscript"
    }
   },
   "outputs": [],
   "source": [
    "srun --account=ctbrowngrp -p med2 -J testsketch -t 4:00:00 -c 20 --mem=100gb --pty bash\n",
    "\n",
    "\n",
    "mamba activate branchwater-skipmer\n",
    "\n",
    "snakemake -s sketch_individ_reads.smk --use-conda --resources mem_mb=100000 --rerun-triggers mtime \\\n",
    "-c 20 --rerun-incomplete -k -n"
   ]
  },
  {
   "cell_type": "code",
   "execution_count": null,
   "metadata": {
    "vscode": {
     "languageId": "shellscript"
    }
   },
   "outputs": [],
   "source": [
    "# Build bowtie2 db from MAGs (use 95% ANi for now)\n",
    "# concatenate all MAGs\n",
    "cat /group/ctbrowngrp2/scratch/annie/2024-pigparadigm/results/MAGs/drep.95/dereplicated_genomes/*.fasta > MAGs.95.fa\n",
    "\n",
    "# Build bowtie db \n",
    "srun --account=ctbrowngrp -p med2 -J bt2 -t 3:00:00 -c 32 --mem=70gb --pty bash\n",
    "mamba activate bowtie2\n",
    "bowtie2-build MAGs.95.fa MAGs_95 -p 32 --large-index \n",
    "\n",
    "\n",
    "# Map with the readmap.smk\n",
    "snakemake -s readmap.smk --use-conda --resources mem_mb=100000 --rerun-triggers mtime \\\n",
    "-c 32 --rerun-incomplete -k -n\n",
    "\n",
    "# Use coverM to get num reads mapped:\n",
    "mamba activate coverm\n",
    "\n",
    "# make a coverage table, where the min amount of the contig that has to be covered is 75%\n",
    "coverm contig -m count \\\n",
    "-b *.bam > 250227_coverM_mag.tsv\n",
    "\n",
    "coverm genome --genome-fasta-directory \\\n",
    "/group/ctbrowngrp2/scratch/annie/2024-pigparadigm/results/MAGs/drep.95/dereplicated_genomes/ \\\n",
    "-x fasta -m relative_abundance -b *.bam > 250227_coverM_bins.csv"
   ]
  },
  {
   "cell_type": "code",
   "execution_count": null,
   "metadata": {
    "vscode": {
     "languageId": "shellscript"
    }
   },
   "outputs": [],
   "source": [
    "# Mags in sourmash format:\n",
    "/group/ctbrowngrp2/scratch/annie/2024-pigparadigm/results/sourmash/sketches/MAGs.drep95.zip\n",
    "\n",
    "# gotta rename some\n",
    "sourmash sig rename SRR8960303_r1.zip \"SRR8960303_r1\" -o rn/SRR8960303_r1.zip\n",
    "sourmash sig rename SRR8960303_r2.zip \"SRR8960303_r2\" -o rn/SRR8960303_r2.zip\n",
    "sourmash sig rename SRR15057928_r2.zip \"SRR15057928_r2\" -o rn/SRR15057928_r2.zip\n",
    "sourmash sig rename SRR14369135_r1.zip \"SRR14369135_r1\" -o rn/SRR14369135_r1.zip\n",
    "sourmash sig rename SRR14369135_r2.zip \"SRR14369135_r2\" -o rn/SRR14369135_r2.zip\n",
    "\n",
    "# manysearch x the individ reads\n",
    "sourmash scripts manysearch \\\n",
    "/group/ctbrowngrp2/scratch/annie/2024-pigparadigm/results/sourmash/sketches/MAGs.drep95.zip \\\n",
    "fp.txt -o MAGs.k21s1000.R1R2.csv -k 21 -s 1000 -c 20\n"
   ]
  },
  {
   "cell_type": "code",
   "execution_count": null,
   "metadata": {
    "vscode": {
     "languageId": "shellscript"
    }
   },
   "outputs": [],
   "source": [
    "# fastgather too?\n",
    "for f in *_merge.zip\n",
    "do \n",
    "sourmash scripts fastgather \\\n",
    "$f /group/ctbrowngrp2/scratch/annie/2024-pigparadigm/results/sourmash/sketches/MAGs.drep95.zip \\\n",
    "-k 21 --scaled 1000\\\n",
    "-c 32 -o fastgather/$f.csv\n",
    "done"
   ]
  }
 ],
 "metadata": {
  "language_info": {
   "name": "python"
  }
 },
 "nbformat": 4,
 "nbformat_minor": 2
}
