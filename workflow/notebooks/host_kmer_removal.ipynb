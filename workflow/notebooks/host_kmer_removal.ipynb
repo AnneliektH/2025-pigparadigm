{
 "cells": [
  {
   "cell_type": "markdown",
   "metadata": {},
   "source": [
    "## Removing contaminant kmers\n",
    "- I would like a set of signatures, where host contamination kmers are removed. Host contamination includes both human and pig signatures. \n",
    "- Snakefile takes in a list of SRA numbers, merges the fastmultigather output csvs of that SRA xhuman genome and once x pig genome. \n",
    "-  This concatenated csv file is used as a picklist using gather against the same SRA, and this outputs the signature with the matching kmers removed and also a csv file that contains information on what % of the metaG was contamination. \n"
   ]
  },
  {
   "cell_type": "code",
   "execution_count": null,
   "metadata": {
    "vscode": {
     "languageId": "shellscript"
    }
   },
   "outputs": [],
   "source": [
    "# Run snakefile that concatenates fmg output, then uses that as a picklist\n",
    "# srun snakemake\n",
    "srun --account=ctbrowngrp -p med2 -J rmhost -t 10:00:00 -c 50 --mem=50gb --pty bash\n",
    "mamba activate branchwater\n",
    "\n",
    "snakemake -s remove_contam.smk --use-conda --resources mem_mb=50000 --rerun-triggers mtime \\\n",
    "-c 50 --rerun-incomplete -k -n"
   ]
  }
 ],
 "metadata": {
  "language_info": {
   "name": "python"
  }
 },
 "nbformat": 4,
 "nbformat_minor": 2
}
