{
 "cells": [
  {
   "cell_type": "markdown",
   "metadata": {},
   "source": [
    "## Removal of pig and human sequences:\n",
    "Pig and human metagenomes contain host contamination (most likely). \n",
    "We need to at least make a not of what % of each dataset is contamination, and ideally remove contamination from each before using it for other downstream analysis. \n",
    "\n",
    "Have tried sig subtract , but in order to use that I needed to flatten the signatures, which I think messed with downstream analysis.\n",
    "\n",
    "I would like to write a conscise snakefile that for each signature removes these kmers and outputs a gather csv with f_orig_query (perc of metaG that matches contaminant genome). \n",
    "\n",
    "Snakefile needs to be able to take in lists of SRA numbers, and based off that put output in the correct folder (pig or human, maybe also distinguish between yes/no mags built). And for input files there are different paths as well. \n",
    "\n",
    "Steps:\n",
    "1. fastmultigather metaG x  pig genome\n",
    "2. fastmultigather metaG x  human genome\n",
    "3. concat these output files\n",
    "4. gather x metagenome with output from 2 as a picklist\n",
    "5. use --output-unassigned and save as zip. \n",
    "6. Save a csv output as well of gather matches. "
   ]
  },
  {
   "cell_type": "code",
   "execution_count": null,
   "metadata": {
    "vscode": {
     "languageId": "shellscript"
    }
   },
   "outputs": [],
   "source": [
    "# how to run snakefile:\n",
    "# Run snakefile that concatenates fmg output, then uses that as a picklist\n",
    "# srun snakemake\n",
    "srun --account=ctbrowngrp -p med2 -J fmg -t 5:00:00 -c 50 --mem=50gb --pty bash\n",
    "mamba activate branchwater\n",
    "\n",
    "snakemake -s remove_contam.smk --use-conda --resources mem_mb=50000 --rerun-triggers mtime \\\n",
    "-c 40 --rerun-incomplete -k -n"
   ]
  },
  {
   "cell_type": "code",
   "execution_count": null,
   "metadata": {
    "vscode": {
     "languageId": "shellscript"
    }
   },
   "outputs": [],
   "source": [
    "# make signature list:\n",
    "# sigs in: /group/ctbrowngrp/irber/data/wort-data/wort-sra/sigs/{sig}.sig\n",
    "awk '{print \"/group/ctbrowngrp/irber/data/wort-data/wort-sra/sigs/\" $0}' ../../config/human_sra.txt > human_sra.txt\n",
    "awk '{print $0 \".sig\"}' human_sra.txt > human_sra.fp.txt\n",
    "\n",
    "# for pigs from which no MAGs were built\n",
    "awk '{print \"/group/ctbrowngrp/irber/data/wort-data/wort-sra/sigs/\" $0}' ../../config/pig_sra_noatlas.txt > pig_sra_noatlas.txt\n",
    "awk '{print $0 \".sig\"}' pig_sra_noatlas.txt > pig_sra_noatlas.fp.txt\n",
    "\n",
    "# Make one file since we dont care atm if its human or pig metag\n",
    "cat human_sra.fp.txt pig_sra_noatlas.fp.txt > filepath_wortsigs.txt\n",
    "\n",
    "# same thing for pig gut from which we have MAGs\n",
    "awk '{print \"/group/ctbrowngrp2/scratch/annie/2024-pigparadigm/results/sourmash/sketches/metag_hostrm/\" $0}' ../../config/pig_sra.txt > pig_sra.txt\n",
    "awk '{print $0 \".sig.gz\"}' pig_sra.txt > pig_sra.fp.txt\n"
   ]
  },
  {
   "cell_type": "code",
   "execution_count": null,
   "metadata": {
    "vscode": {
     "languageId": "shellscript"
    }
   },
   "outputs": [],
   "source": [
    "# fastmultigather, just srun it\n",
    "srun --account=ctbrowngrp -p med2 -J fmg -t 10:00:00 -c 50 --mem=50gb --pty bash\n",
    "mamba activate branchwater-skipmer\n",
    "\n",
    "# fmg to the pig genome\n",
    "sourmash scripts fastmultigather \\\n",
    "../all_filepath.txt /group/ctbrowngrp2/scratch/annie/2024-pigparadigm/resources/sus_scrofa/susScr11.sig.gz \\\n",
    "-k 21 -s 1000 -c 50 -t 0\n",
    "\n",
    "# and to the pig genome\n",
    "mamba activate branchwater\n",
    "sourmash scripts fastmultigather \\\n",
    "../all_filepath.txt /group/ctbrowngrp/sourmash-db/hg38/hg38-entire.sig.zip \\\n",
    "-k 21 -s 1000 -c 50 -t 0"
   ]
  },
  {
   "cell_type": "code",
   "execution_count": null,
   "metadata": {
    "vscode": {
     "languageId": "shellscript"
    }
   },
   "outputs": [],
   "source": []
  },
  {
   "cell_type": "code",
   "execution_count": null,
   "metadata": {
    "vscode": {
     "languageId": "shellscript"
    }
   },
   "outputs": [],
   "source": [
    "# human db =  /group/ctbrowngrp/sourmash-db/hg38/hg38-entire.sig.zip\n",
    "# pigdb = '/group/ctbrowngrp2/scratch/annie/2024-pigparadigm/resources/sus_scrofa/susScr11.sig.gz'\n"
   ]
  }
 ],
 "metadata": {
  "language_info": {
   "name": "python"
  }
 },
 "nbformat": 4,
 "nbformat_minor": 2
}
