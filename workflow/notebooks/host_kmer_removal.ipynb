{
 "cells": [
  {
   "cell_type": "markdown",
   "metadata": {},
   "source": [
    "## Removal of pig and human sequences:\n",
    "Pig and human metagenomes contain host contamination (most likely). \n",
    "We need to at least make a not of what % of each dataset is contamination, and ideally remove contamination from each before using it for other downstream analysis. \n",
    "\n",
    "Have tried sig subtract , but in order to use that I needed to flatten the signatures, which I think messed with downstream analysis.\n",
    "\n",
    "I would like to write a conscise snakefile that for each signature removes these kmers and outputs a gather csv with f_orig_query (perc of metaG that matches contaminant genome). \n",
    "\n",
    "Snakefile needs to be able to take in lists of SRA numbers, and based off that put output in the correct folder (pig or human, maybe also distinguish between yes/no mags built). And for input files there are different paths as well. \n",
    "\n",
    "Steps:\n",
    "1. fastmultigather metaG x  pig genome\n",
    "2. fastmultigather metaG x  human genome\n",
    "3. concat these output files\n",
    "4. gather x metagenome with output from 3 as a picklist\n",
    "5. use --output-unassigned and save as zip. \n",
    "6. Save a csv output as well of gather matches. "
   ]
  },
  {
   "cell_type": "markdown",
   "metadata": {},
   "source": [
    "### Fastmultigather x genomes\n",
    "- Looks like i did this for all processed pig metaGs (still better than nothing)\n",
    "\n",
    "Need to do this for pig metaGs without MAGs built. and for the human metaGs. \n",
    "\n"
   ]
  },
  {
   "cell_type": "code",
   "execution_count": null,
   "metadata": {
    "vscode": {
     "languageId": "shellscript"
    }
   },
   "outputs": [],
   "source": []
  },
  {
   "cell_type": "code",
   "execution_count": null,
   "metadata": {
    "vscode": {
     "languageId": "shellscript"
    }
   },
   "outputs": [],
   "source": [
    "# flattening and then subtracting doesn't seem to work:\n",
    "# Maybe do fmg, then use the result as a picklist for gather, and remove everything host/pig related\n",
    "# treshold it?? (default is 50kb) probs keep t at 0\n",
    "sourmash scripts fastmultigather \\\n",
    "../siglist.txt /group/ctbrowngrp2/scratch/annie/2024-pigparadigm/resources/sus_scrofa/susScr11.sig.gz \\\n",
    "-k 21 -s 1000 -c 40 -t 0\n",
    "\n",
    "# same for human genome (but do in a diff folder)\n",
    "mamba activate branchwater\n",
    "sourmash scripts fastmultigather \\\n",
    "../siglist.txt /group/ctbrowngrp/sourmash-db/hg38/hg38-entire.sig.zip \\\n",
    "-k 21 -s 1000 -c 50 -t 0"
   ]
  },
  {
   "cell_type": "code",
   "execution_count": null,
   "metadata": {
    "vscode": {
     "languageId": "shellscript"
    }
   },
   "outputs": [],
   "source": [
    "# Run snakefile that concatenates fmg output, then uses that as a picklist\n",
    "# srun snakemake\n",
    "srun --account=ctbrowngrp -p med2 -J fmg -t 5:00:00 -c 50 --mem=50gb --pty bash\n",
    "mamba activate branchwater\n",
    "\n",
    "snakemake -s Snakefile_pig --use-conda --resources mem_mb=50000 --rerun-triggers mtime \\\n",
    "-c 40 --rerun-incomplete -k -n"
   ]
  },
  {
   "cell_type": "code",
   "execution_count": null,
   "metadata": {
    "vscode": {
     "languageId": "shellscript"
    }
   },
   "outputs": [],
   "source": [
    "# human db =  /group/ctbrowngrp/sourmash-db/hg38/hg38-entire.sig.zip\n",
    "# pigdb = '/group/ctbrowngrp2/scratch/annie/2024-pigparadigm/resources/sus_scrofa/susScr11.sig.gz'\n"
   ]
  },
  {
   "cell_type": "markdown",
   "metadata": {},
   "source": [
    "## Host removal other signatures\n",
    "- 100 pig metaGs that are not used for MAGs (read_pig_nomag)\n",
    "- 100 human metaGs. (read_human_hostrm)\n",
    "\n",
    "Do fmg in the same folder\n"
   ]
  },
  {
   "cell_type": "code",
   "execution_count": null,
   "metadata": {
    "vscode": {
     "languageId": "shellscript"
    }
   },
   "outputs": [],
   "source": [
    "# removed human and pig stuff\n"
   ]
  }
 ],
 "metadata": {
  "language_info": {
   "name": "python"
  }
 },
 "nbformat": 4,
 "nbformat_minor": 2
}
