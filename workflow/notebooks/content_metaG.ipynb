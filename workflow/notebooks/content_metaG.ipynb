{
 "cells": [
  {
   "cell_type": "markdown",
   "metadata": {},
   "source": [
    "## Get all clean signatures processed until comparing new MAGs\n",
    "- fastgather x GTDB\n",
    "- fastgather x fungi\n",
    "- fastgather x protozoa \n",
    "\n",
    "All these to get an idea of what % of a metaG is that taxa. "
   ]
  },
  {
   "cell_type": "code",
   "execution_count": null,
   "metadata": {
    "vscode": {
     "languageId": "plaintext"
    }
   },
   "outputs": [],
   "source": []
  }
 ],
 "metadata": {
  "language_info": {
   "name": "python"
  }
 },
 "nbformat": 4,
 "nbformat_minor": 2
}
