{
 "cells": [
  {
   "cell_type": "markdown",
   "id": "06ff91d6",
   "metadata": {},
   "source": [
    "### Do tax for 337 genomes that sourmash could not get classified"
   ]
  },
  {
   "cell_type": "code",
   "execution_count": null,
   "id": "f6a42213",
   "metadata": {
    "vscode": {
     "languageId": "powershell"
    }
   },
   "outputs": [],
   "source": [
    "# act gtdbtk\n",
    "conda activate gtdbtk\n",
    "\n",
    "# seet db path \n",
    "conda env config vars set GTDBTK_DATA_PATH=\"/home/amhorst/databases/gtdb-v2/\"\n",
    "conda env config vars set GTDBTK_DATA_PATH=\"/home/amhorst/databases/gtdb-v2/release226\";\n",
    "\n",
    "# THIS ONE WORKS \n",
    "export GTDBTK_DATA_PATH=/home/amhorst/databases/gtdb-v2/release226\n",
    "\n",
    "# check\n",
    "echo $GTDBTK_DATA_PATH\n"
   ]
  },
  {
   "cell_type": "code",
   "execution_count": null,
   "id": "b8ae20bb",
   "metadata": {
    "vscode": {
     "languageId": "powershell"
    }
   },
   "outputs": [],
   "source": [
    "# srun\n",
    "srun --account=ctbrowngrp -p med2 -J smash -t 64:00:00 -c 52 --mem=120gb --pty bash\n",
    "\n",
    "\n",
    "mamba activate gtdbtk\n",
    "gtdbtk classify_wf --cpus 52 --genome_dir ./genomes --extension fasta \\\n",
    "--skip_ani_screen --out_dir taxonomy\n"
   ]
  },
  {
   "cell_type": "code",
   "execution_count": null,
   "id": "08a9e828",
   "metadata": {
    "vscode": {
     "languageId": "powershell"
    }
   },
   "outputs": [],
   "source": []
  },
  {
   "cell_type": "code",
   "execution_count": null,
   "id": "a2100988",
   "metadata": {
    "vscode": {
     "languageId": "powershell"
    }
   },
   "outputs": [],
   "source": [
    "# srun\n",
    "srun --account=ctbrowngrp -p med2 -J smash -t 64:00:00 -c 52 --mem=120gb --pty bash\n",
    "\n",
    "# do it in folders so that we dont do 300 at once bc the compyter doesnt like\n",
    "mamba activate gtdbtk\n",
    "gtdbtk classify_wf  --pp\n",
    "--cpus 52 --genome_dir ./ERR113 \\\n",
    "--extension fasta \\\n",
    "--skip_ani_screen --out_dir taxonomy_ERR113\n"
   ]
  },
  {
   "cell_type": "code",
   "execution_count": null,
   "id": "a8fe85b5",
   "metadata": {
    "vscode": {
     "languageId": "powershell"
    }
   },
   "outputs": [],
   "source": [
    "# srun\n",
    "srun --account=ctbrowngrp -p med2 -J smash -t 64:00:00 -c 52 --mem=120gb --pty bash\n",
    "\n",
    "# do it in folders so that we dont do 300 at once bc the compyter doesnt like\n",
    "mamba activate gtdbtk\n",
    "gtdbtk classify_wf  --pplacer_cpus 24 \\\n",
    "--cpus 52 --genome_dir ./ERR113 \\\n",
    "--extension fasta \\\n",
    "--skip_ani_screen --out_dir taxonomy_ERR113\n",
    "\n",
    "mamba activate gtdbtk\n",
    "gtdbtk classify_wf  --pplacer_cpus 24 \\\n",
    "--cpus 52 --genome_dir ./SRR111 \\\n",
    "--extension fasta \\\n",
    "--skip_ani_screen --out_dir taxonomy_SRR111"
   ]
  },
  {
   "cell_type": "code",
   "execution_count": null,
   "id": "22033d4e",
   "metadata": {
    "vscode": {
     "languageId": "powershell"
    }
   },
   "outputs": [],
   "source": [
    "# we will make a snakefile since this takes fforever\n",
    "# in tax_genomes.smk"
   ]
  },
  {
   "cell_type": "markdown",
   "id": "9dc220ba",
   "metadata": {},
   "source": [
    "### Redo MAG taxonomy \n",
    "- Used an older version of GTDB with Atlas, now not comparable with GTDB tax. \n",
    "- Reclassify using sourmash and GTDB 226\n",
    "- Keep track of genomes without tax. Run GTDB-tk on only those. "
   ]
  },
  {
   "cell_type": "markdown",
   "id": "21b1a98d",
   "metadata": {},
   "source": [
    "# Sourmash tax snakefile:"
   ]
  },
  {
   "cell_type": "code",
   "execution_count": null,
   "id": "aa18dad0",
   "metadata": {
    "vscode": {
     "languageId": "powershell"
    }
   },
   "outputs": [],
   "source": [
    "# see snakefile tax_gneomes.smk\n",
    "srun --account=ctbrowngrp -p med2 -J calc-pres -t 6:00:00 -c 60 --mem=80gb --pty bash\n",
    "# run the script\n",
    "# WHERE IS THIS SNAKEFILE\n",
    "mamba activate branchwater-skipmer\n",
    "snakemake --use-conda --resources mem_mb=80000 --rerun-triggers mtime \\\n",
    "-c 60 --rerun-incomplete -k -s snakefiles/tax_genomes.smk -n"
   ]
  },
  {
   "cell_type": "code",
   "execution_count": null,
   "id": "ce4ddae0",
   "metadata": {
    "vscode": {
     "languageId": "powershell"
    }
   },
   "outputs": [],
   "source": [
    "# how to update i forgot\n",
    "history | grep pip  | tail -n 10\n",
    "\n",
    "\n",
    "pip install -U taxburst\n",
    "python -m pip install gtdbtk --upgrade\n"
   ]
  },
  {
   "cell_type": "code",
   "execution_count": null,
   "id": "548c063d",
   "metadata": {
    "vscode": {
     "languageId": "powershell"
    }
   },
   "outputs": [],
   "source": [
    "# need to download the db\n",
    "srun --account=ctbrowngrp -p med2 -J calc-pres -t 48:00:00 -c 2 --mem=10gb --pty bash\n"
   ]
  },
  {
   "cell_type": "code",
   "execution_count": null,
   "id": "a192c6d9",
   "metadata": {
    "vscode": {
     "languageId": "powershell"
    }
   },
   "outputs": [],
   "source": [
    "\n",
    "\n",
    "# dir for doing this\n",
    "mkdir results/redo_taxonomy/\n",
    "cd results/redo_taxonomy/\n",
    "\n",
    "# copy genomes\n",
    "cp ../atlas/atlas_SRR11183532/genomes/genomes/AtH2023_SRR11183532_MAG7.fasta .\n",
    "cp ../atlas/atlas_SRR7182054/genomes/genomes/AtH2023_SRR7182054_MAG7.fasta .\n",
    "\n",
    "# srun\n",
    "srun --account=ctbrowngrp -p med2 -J smash -t 4:00:00 -c 32 --mem=100gb --pty bash\n",
    "\n",
    "\n",
    "mamba activate gtdbtk\n",
    "gtdbtk classify_wf --cpus 16 --genome_dir ./genomes --extension fasta \\\n",
    "--skip_ani_screen --out_dir taxonomy\n",
    "\n",
    "\n",
    "cp ../../atlas/atlas_SRR7182054/genomes/taxonomy/gtdb_taxonomy.tsv ./gtdb_taxonomy_SRR7182054.tsv\n",
    "cp ../../atlas/atlas_SRR11183532/genomes/taxonomy/gtdb_taxonomy.tsv ./gtdb_taxonomy_SRR11183532.tsv\n",
    "\n",
    "nano ../../atlas_SRR7182054/genomes/taxonomy/gtdb_taxonomy.t"
   ]
  }
 ],
 "metadata": {
  "language_info": {
   "name": "python"
  }
 },
 "nbformat": 4,
 "nbformat_minor": 5
}
