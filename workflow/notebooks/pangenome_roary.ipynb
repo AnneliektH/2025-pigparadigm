{
 "cells": [
  {
   "cell_type": "markdown",
   "metadata": {},
   "source": [
    "## Use roary for a traditional pangenome analysis:\n",
    "- One species of microbe\n",
    "- Use new MAGs and gtdb MAGs. \n",
    "- Use roary to get genes that are core vs not-core. \n",
    "\n",
    "Can we go from roary gene to DNA?\n",
    "Then sketch that DNA sequence, and see presence/absence in metaGs?"
   ]
  },
  {
   "cell_type": "code",
   "execution_count": null,
   "metadata": {
    "vscode": {
     "languageId": "plaintext"
    }
   },
   "outputs": [],
   "source": [
    "# try with L. amylovorus (maybe can compare to smash?)\n",
    "how to get all lactobacillus from genbank??\n",
    "# grep genome names from mag taxonomy:\n",
    "(head -n 1 file.csv && grep -e \"pattern\" file.csv) > filtered.csv\n",
    "\n",
    "# find location of MAG tax and gtdb tax\n",
    "# /group/ctbrowngrp/sourmash-db/gtdb-rs220/gtdb-rs220.lineages.csv\n",
    "# /group/ctbrowngrp2/scratch/annie/2024-pigparadigm/results/MAGs/240705_genome_taxonomy.tsv"
   ]
  },
  {
   "cell_type": "code",
   "execution_count": null,
   "metadata": {
    "vscode": {
     "languageId": "plaintext"
    }
   },
   "outputs": [],
   "source": []
  },
  {
   "cell_type": "code",
   "execution_count": null,
   "metadata": {
    "vscode": {
     "languageId": "shellscript"
    }
   },
   "outputs": [],
   "source": [
    "# prokka for gene annot\n",
    "prokka --kingdom Bacteria --outdir prokka_GCA_000008285 \\\n",
    "--genus Lactobacillus --locustag GCA_000008285 GCA_000008285.1_ASM828v1_genomic.fna\n",
    "\n",
    "# roary for pangenome"
   ]
  },
  {
   "cell_type": "code",
   "execution_count": null,
   "metadata": {
    "vscode": {
     "languageId": "plaintext"
    }
   },
   "outputs": [],
   "source": [
    "# snakefile:\n",
    "- get all genomes of same speices into folder\n",
    "- download NCBI genomes \n",
    "- prokka\n",
    "- roary"
   ]
  }
 ],
 "metadata": {
  "language_info": {
   "name": "python"
  }
 },
 "nbformat": 4,
 "nbformat_minor": 2
}
