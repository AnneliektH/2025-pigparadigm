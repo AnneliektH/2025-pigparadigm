{
 "cells": [
  {
   "cell_type": "markdown",
   "id": "a4b68795",
   "metadata": {},
   "source": [
    "### Have to derep the MAGs\n",
    "- At strain level (99%)\n",
    "- At Species level (95%)\n",
    "\n",
    "Total number of current MAGs (810 SRAs) 10,544\n",
    "\n",
    "For drep quality file:\n",
    "https://drep.readthedocs.io/en/master/advanced_use.html#using-external-genome-quality-information\n",
    "https://github.com/MrOlm/drep/issues/220\n",
    "\n"
   ]
  },
  {
   "cell_type": "code",
   "execution_count": null,
   "id": "f3b74476",
   "metadata": {
    "vscode": {
     "languageId": "shellscript"
    }
   },
   "outputs": [],
   "source": [
    "# MAG location:\n",
    "/group/ctbrowngrp2/scratch/annie/2023-swine-sra/results/MAGs/genomes/all_genomes/*.fasta\n",
    "# quality report location:\n",
    "/group/ctbrowngrp2/scratch/annie/2023-swine-sra/results/MAGs/250410_mag_quality.tsv\n",
    "\n",
    "### Quality file for dRep:\n",
    "awk -F'\\t' 'BEGIN {OFS=\",\"} {print $1, $2, $4}' /group/ctbrowngrp2/scratch/annie/2023-swine-sra/results/MAGs/250410_mag_quality.tsv > 250410_mag_qual.drep.csv\n",
    "\n",
    "# In the new file convert headings to: genome,completeness,contamination\n"
   ]
  },
  {
   "cell_type": "code",
   "execution_count": null,
   "id": "638308e4",
   "metadata": {
    "vscode": {
     "languageId": "shellscript"
    }
   },
   "outputs": [],
   "source": [
    "\n",
    "# use drep\n",
    "srun --account=ctbrowngrp -p med2 -J drep -t 15:00:00 -c 32 --mem=80gb --pty bash\n",
    "\n",
    "mamba activate drep\n",
    "dRep dereplicate \\\n",
    "drep.99 \\\n",
    "--genomeInfo 250410_mag_qual.drep.csv \\\n",
    "-p 32 \\\n",
    "-g /group/ctbrowngrp2/scratch/annie/2023-swine-sra/results/MAGs/genomes/all_genomes/*.fasta \\\n",
    "-pa 0.9 -sa 0.99 -nc 0.30 -cm larger \\\n",
    "-comp 50 -con 10 -l 1000 \n"
   ]
  }
 ],
 "metadata": {
  "language_info": {
   "name": "python"
  }
 },
 "nbformat": 4,
 "nbformat_minor": 5
}
