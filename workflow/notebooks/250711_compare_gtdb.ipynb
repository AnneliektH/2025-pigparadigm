{
 "cells": [
  {
   "cell_type": "markdown",
   "id": "1115ba7a",
   "metadata": {},
   "source": [
    "### Compare gtdb and mags\n",
    "If (and I think this is true) new MAGs and undereplicated GTDB provide almost the same coverage, then how much new genomic content did we just uncover? Did we uncover anything new? How many of the kmers in MAGs are also in GTDB (all)? If it's almost everything, that would suggest that most of the sequence diversity is already captured in GTDB, but people aren't using it. That would also mean that no new MAGs have to be created, because that is not helping. Instead we would have to look for a different way of finding more kmers belonging to (yet) unknown species. \n",
    "\n",
    "\n",
    "How to test:\n",
    "- Make pangenomedb of gtdb all\n",
    "- Subtract MAGs (all) from GTDB. \n",
    "\n",
    "Pangenome dbs cause overestimation; use normal dbs and redo.... \n",
    "\n"
   ]
  },
  {
   "cell_type": "code",
   "execution_count": null,
   "id": "c3d3233b",
   "metadata": {
    "vscode": {
     "languageId": "shellscript"
    }
   },
   "outputs": [],
   "source": [
    "# did colton already have db? \n",
    " find /some/path -name \\*substring\\* -type d\\\n",
    "find /group/ctbrowngrp3/baumlerc -name \\*gtdb\\* -type d\n",
    "\n",
    "~/dissertation-project/fastgather-test/query_dbs/gtdb-rs220-k31.species.zip"
   ]
  },
  {
   "cell_type": "code",
   "execution_count": null,
   "id": "e1b8d10c",
   "metadata": {
    "vscode": {
     "languageId": "shellscript"
    }
   },
   "outputs": [],
   "source": [
    "\n",
    "# then for sketching\n",
    "srun --account=ctbrowngrp -p med2 -J sketch -t 24:00:00 -c 4 --mem=100gb --pty bash\n",
    "\n",
    "\n",
    "# then also make a pangenome db bc its faster \n",
    "mamba activate pangenomics_dev\n",
    "sourmash scripts pangenome_merge \\\n",
    "/group/ctbrowngrp5/sourmash-db/gtdb-rs226/gtdb-rs226.k21.rocksdb \\\n",
    "-k 21 --scaled 10000 -o gtdb-rs226.pangenomedb.10k.zip\n",
    "\n",
    "\n",
    "# also maybe one for reps (wait with running gather until finised)\n",
    "sourmash scripts pangenome_merge \\\n",
    "/group/ctbrowngrp5/sourmash-db/gtdb-rs226/gtdb-rs226-reps.k21.rocksdb \\\n",
    "-k 21 --scaled 10000 -o gtdb-rs226-reps.pangenomedb.10k.zip"
   ]
  },
  {
   "cell_type": "markdown",
   "id": "7517b36c",
   "metadata": {},
   "source": [
    "could we do sig merge?"
   ]
  },
  {
   "cell_type": "code",
   "execution_count": null,
   "id": "a0de3a23",
   "metadata": {
    "vscode": {
     "languageId": "shellscript"
    }
   },
   "outputs": [],
   "source": [
    "find /group/ctbrowngrp* -name \\*baumler\\* -type d"
   ]
  }
 ],
 "metadata": {
  "language_info": {
   "name": "python"
  }
 },
 "nbformat": 4,
 "nbformat_minor": 5
}
