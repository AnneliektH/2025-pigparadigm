{
 "cells": [
  {
   "cell_type": "markdown",
   "metadata": {},
   "source": [
    "### Functional annotation for the MAGs\n",
    "I thought I had done functional annotations with Atlas, but I didn't. Do have all predicted protein sequences. I would like to go from predicted protein to function. \n",
    "We can see what bacteria carry which genes\n",
    "Mostly interested in Cas genes, so maybe wont have to completely do this annotation. \n",
    "Could maybe use a cas specific program..\n",
    "\n"
   ]
  },
  {
   "cell_type": "markdown",
   "metadata": {},
   "source": [
    "Since DRAM takes some time, may be good to start with MAGs that do have a CRISPR array predicted, since that's why we are running it anyway. "
   ]
  },
  {
   "cell_type": "markdown",
   "metadata": {},
   "source": [
    "The DRAM dbs are already downloaded and installed by Atlas, and there is a config file for this. We can use these to run DRAM, hopefully. \n",
    "in: /home/amhorst/database_atlas/DRAM\n"
   ]
  },
  {
   "cell_type": "code",
   "execution_count": null,
   "metadata": {
    "vscode": {
     "languageId": "shellscript"
    }
   },
   "outputs": [],
   "source": [
    "# install dram + its dbs\n",
    "wget https://raw.githubusercontent.com/WrightonLabCSU/DRAM/master/environment.yaml\n",
    "mamba env create -f environment.yaml -n DRAM\n",
    "\n",
    "# dtabase already installed by atlas (worked!!):\n",
    "DRAM-setup.py import_config --config_loc  /home/amhorst/database_atlas/DRAM/DRAM.config\n",
    "\n",
    "\n",
    "# simplest run:\n",
    "DRAM.py annotate -i 'my_bins/*.fa' -o annotation\n",
    "DRAM.py distill -i annotation/annotations.tsv \\\n",
    "-o genome_summaries --trna_path annotation/trnas.tsv --rrna_path annotation/rrnas.tsv"
   ]
  },
  {
   "cell_type": "code",
   "execution_count": null,
   "metadata": {
    "vscode": {
     "languageId": "shellscript"
    }
   },
   "outputs": [],
   "source": [
    "# snake it but it needs lot of mem: If KOfam is used to annotate KEGG and UniRef90 is not used, then less than 50 GB of RAM is required\n",
    "# srun bc needs mem and time\n",
    "srun --account=ctbrowngrp -p bmm -J dram -t 12:00:00 -c 24 --mem=60gb --pty bash\n",
    "mamba activate branchwater\n",
    "\n",
    "snakemake -s dram.smk --use-conda --resources mem_mb=60000 --rerun-triggers mtime \\\n",
    "-c 24 --rerun-incomplete -k -n"
   ]
  }
 ],
 "metadata": {
  "language_info": {
   "name": "python"
  }
 },
 "nbformat": 4,
 "nbformat_minor": 2
}
