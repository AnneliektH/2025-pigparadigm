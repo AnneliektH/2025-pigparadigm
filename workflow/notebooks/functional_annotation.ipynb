{
 "cells": [
  {
   "cell_type": "markdown",
   "metadata": {},
   "source": [
    "### Functional annotation for the MAGs\n",
    "I thought I had done functional annotations with Atlas, but I didn't. Do have all predicted protein sequences. I would like to go from predicted protein to function. \n",
    "We can see what bacteria carry which genes\n",
    "\n",
    "\n",
    "For dram: \n",
    "DB installation failed:\n",
    "If you already have any of the databases downloaded to your server and don't want to download them again then you can pass them to the prepare_databases command by use the --{db_name}_loc flags such as --uniref_loc and --viral_loc.\n",
    "\n",
    "--kofam_loc       # KOfam database\n",
    "--uniref_loc      # UniRef90 database\n",
    "--dbcan_loc       # dbCAN database\n",
    "--pfam_loc        # Pfam database\n",
    "--merops_loc      # MEROPS database\n",
    "--vogs_loc        # VOGDB database"
   ]
  },
  {
   "cell_type": "code",
   "execution_count": null,
   "metadata": {
    "vscode": {
     "languageId": "shellscript"
    }
   },
   "outputs": [],
   "source": [
    "# done:\n",
    "2025-04-07 11:48:38,005 - Downloading kofam_hmm\n",
    "2025-04-07 11:59:25,631 - Downloading kofam_ko_list\n",
    "2025-04-07 11:59:27,990 - Downloading uniref\n",
    "2025-04-07 14:53:08,542 - Downloading pfam\n",
    "2025-04-07 16:20:51,740 - Downloading pfam_hmm"
   ]
  },
  {
   "cell_type": "code",
   "execution_count": null,
   "metadata": {
    "vscode": {
     "languageId": "shellscript"
    }
   },
   "outputs": [],
   "source": [
    "# redo the installation of dbs\n",
    "srun --account=adamgrp -p high2 -J dramsetup -t 5:00:00 -c 10 --mem=70gb --pty bash\n",
    "mamba activate DRAM\n",
    "\n",
    "DRAM-setup.py prepare_databases --threads 10 --output_dir DRAM_data/database_files \\\n",
    "--kofam_hmm_loc /home/amhorst/databases/DRAM_data/database_files/kofam_profiles.tar.gz \\\n",
    "--kofam_ko_list_loc /home/amhorst/databases/DRAM_data/database_files/kofam_ko_list.tsv.gz \\\n",
    "--uniref_loc /home/amhorst/databases/DRAM_data/database_files/uniref90.fasta.gz \\\n",
    "--pfam_loc /home/amhorst/databases/DRAM_data/database_files/Pfam-A.full.gz \\\n",
    "--pfam_hmm_loc /home/amhorst/databases/DRAM_data/Pfam-A.hmm.dat.gz \n",
    "\n",
    "\n",
    "\n"
   ]
  },
  {
   "cell_type": "code",
   "execution_count": null,
   "metadata": {
    "vscode": {
     "languageId": "shellscript"
    }
   },
   "outputs": [],
   "source": [
    "# install dram + its dbs\n",
    "wget https://raw.githubusercontent.com/WrightonLabCSU/DRAM/master/environment.yaml\n",
    "mamba env create -f environment.yaml -n DRAM\n",
    "\n",
    "# go to db folder\n",
    "cd databases\n",
    "\n",
    "# srun bc needs mem and time\n",
    "srun --account=adamgrp -p bmh -J dramsetup -t 5:00:00 -c 10 --mem=70gb --pty bash\n",
    "mamba activate DRAM\n",
    "\n",
    "DRAM-setup.py prepare_databases --threads 10 --output_dir DRAM_data"
   ]
  }
 ],
 "metadata": {
  "language_info": {
   "name": "python"
  }
 },
 "nbformat": 4,
 "nbformat_minor": 2
}
