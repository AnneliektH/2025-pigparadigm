{
 "cells": [
  {
   "cell_type": "markdown",
   "metadata": {},
   "source": [
    "# Sketching the pig reads: Something went wrong\n",
    "- Sketched read1 2x, instead of sketching read1 and read2\n",
    "- Can this explain the differences in RGI, in viral too? \n",
    "\n",
    "This was not true, sketches were good. \n",
    "Manysketch seems to be easiest. \n",
    "\n",
    "\n",
    "\n",
    "\n",
    "\n"
   ]
  },
  {
   "cell_type": "code",
   "execution_count": null,
   "metadata": {},
   "outputs": [],
   "source": [
    "rule manysketch_csv:\n",
    "    input:\n",
    "        read_one=f\"{ATLAS_DIR}/atlas_{{metag}}/{{metag}}/sequence_quality_control/{{metag}}_QC_R1.fastq.gz\",\n",
    "        read_two=f\"{ATLAS_DIR}/atlas_{{metag}}/{{metag}}/sequence_quality_control/{{metag}}_QC_R2.fastq.gz\",\n",
    "    output:\n",
    "        csv = \"../results/metag_sig/manysketch_csv/{metag}.csv\",\n",
    "    conda: \n",
    "        \"branchwater-skipmer\"\n",
    "    threads: 1\n",
    "    shell: \n",
    "        \"\"\"\n",
    "        echo name,name,read1,read2 > manysketch.csv\n",
    "        echo {wildcards.metag},{input.read1},{input.read2} >> {output.csv} \n",
    "        \"\"\"\n"
   ]
  },
  {
   "cell_type": "code",
   "execution_count": null,
   "metadata": {
    "vscode": {
     "languageId": "shellscript"
    }
   },
   "outputs": [],
   "source": [
    "echo name,name,read1,read2 > manysketch.csv\n",
    "for i in *.fa.gz\n",
    "do\n",
    "echo $i,$i,\n",
    "done >> manysketch.csv"
   ]
  },
  {
   "cell_type": "markdown",
   "metadata": {},
   "source": [
    "Pretty sure i did it right tho? In the snakefile?\n",
    "acc\n",
    "SRR14369135\n",
    "SRR15057928\n",
    "SRR5240728\n",
    "SRR8960303\n",
    "SRR8960562"
   ]
  },
  {
   "cell_type": "code",
   "execution_count": null,
   "metadata": {
    "vscode": {
     "languageId": "shellscript"
    }
   },
   "outputs": [],
   "source": [
    "srun --account=ctbrowngrp -p med2 -J sketch -t 48:00:00 -c 40 --mem=100gb --pty bash\n",
    "# make one merged sketch for all vOTU \n",
    "\n",
    "mamba activate branchwater-skipmer\n",
    "\n",
    "snakemake -s sketch.smk --use-conda --resources mem_mb=100000 --rerun-triggers mtime \\\n",
    "-c 40 --rerun-incomplete -k -n"
   ]
  },
  {
   "cell_type": "code",
   "execution_count": null,
   "metadata": {
    "vscode": {
     "languageId": "shellscript"
    }
   },
   "outputs": [],
   "source": [
    "srun --account=ctbrowngrp -p med2 -J smash -t 1:00:00 -c 14 --mem=30gb --pty bash\n",
    "\n",
    "module load parallel\n",
    "mamba activate branchwater-skipmer \n",
    "for f in *.fasta\n",
    "do\n",
    "sourmash sketch dna \\\n",
    "-p k=21,scaled=1000,k=31,scaled=1000,k=51,scaled=1000 \\\n",
    "$f --name ${f%.fasta*} -o \\\n",
    "../../../../../sourmash/sig_files/MAGs2.0/${f%.fasta*}.zip\n",
    "done | parallel -j 32"
   ]
  }
 ],
 "metadata": {
  "language_info": {
   "name": "python"
  }
 },
 "nbformat": 4,
 "nbformat_minor": 2
}
