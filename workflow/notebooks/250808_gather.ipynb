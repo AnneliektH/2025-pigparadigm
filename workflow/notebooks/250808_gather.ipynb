{
 "cells": [
  {
   "cell_type": "markdown",
   "id": "c982b6f5",
   "metadata": {},
   "source": [
    "## Run gather at k31\n",
    "- Against merged dbs and normal dbs for all the ones we did before\n"
   ]
  },
  {
   "cell_type": "code",
   "execution_count": null,
   "id": "2918e399",
   "metadata": {
    "vscode": {
     "languageId": "shellscript"
    }
   },
   "outputs": [],
   "source": [
    "# index merged to rocksdb\n",
    "sourmash index MAGs.all_k31.merged.rocksdb -F rocksdb -k 31 MAGs.all_k31.merged.zip\n",
    "\n",
    "# make merged db of the gtdb one \n",
    "srun --account=ctbrowngrp -p med2 -J mergdb -t 2:00:00 -c 2 --mem=50gb --pty bash\n",
    "\n",
    "mamba activate pangenomics_dev\n",
    "sourmash scripts pangenome_merge \\\n",
    "/group/ctbrowngrp5/sourmash-db/gtdb-rs226/gtdb-rs226-reps.k31-sc10k.sig.rocksdb \\\n",
    " -k 31 --scaled 10000 -o gtdb-rs226.merged_k31.rocksdb\n",
    "\n",
    "sourmash index gtdb-rs226.merged_k31.rocksdb -F rocksdb -k 31 gtdb-rs226.merged_k31.sig\n",
    "\n",
    "\n"
   ]
  },
  {
   "cell_type": "code",
   "execution_count": null,
   "id": "c60d6569",
   "metadata": {
    "vscode": {
     "languageId": "shellscript"
    }
   },
   "outputs": [],
   "source": [
    "# normal gather bc 2 dbs\n",
    "srun --account=ctbrowngrp -p med2 -J calc-pres -t 6:00:00 -c 60 --mem=80gb --pty bash\n",
    "# run the script\n",
    "mamba activate branchwater-skipmer\n",
    "snakemake --use-conda --resources mem_mb=80000 --rerun-triggers mtime \\\n",
    "-c 60 --rerun-incomplete -k -s gather_human.smk -n"
   ]
  },
  {
   "cell_type": "code",
   "execution_count": null,
   "id": "bd766cdf",
   "metadata": {
    "vscode": {
     "languageId": "shellscript"
    }
   },
   "outputs": [],
   "source": [
    "# do fastmultigather with these\n",
    "sourmash scripts fastmultigather \\\n",
    "/group/ctbrowngrp2/amhorst/2025-pigparadigm/resources/human_metag_fp.txt \\\n",
    "gtdb-rs226.merged_k31.10k.zip ../sketches/MAGs.all_k31.merged.rocksdb \\\n",
    "-k 31 -s 10000 -c 100 -o gather_k31/250811_fmg_human_gtdbmags.csv\n",
    "\n",
    "sourmash scripts fastmultigather \\\n",
    "/group/ctbrowngrp2/amhorst/2025-pigparadigm/resources/human_metag_fp.txt \\\n",
    "gtdb-rs226.merged_k31.rocksdb \\\n",
    "-k 31 -s 10000 -c 100 -o gather_k31/250811_fmg_human_gtdb.csv"
   ]
  },
  {
   "cell_type": "code",
   "execution_count": null,
   "id": "649db02f",
   "metadata": {
    "vscode": {
     "languageId": "shellscript"
    }
   },
   "outputs": [],
   "source": [
    "\n",
    "srun --account=ctbrowngrp -p med2 -J fmg -t 1:00:00 -c 100 --mem=100gb --pty bash\n",
    "\n",
    "# do fmg against a concatenated database\n",
    "sourmash scripts fastmultigather \\\n",
    "/group/ctbrowngrp2/amhorst/2025-pigparadigm/resources/human_metag_fp.txt \\\n",
    "../../sketches/MAGs.all_k31.merged.zip -k 31 -s 10000 -c 100 -t 0 -o ../250808_fmg_MAGs_merged.k31.human.csv\n",
    "\n"
   ]
  },
  {
   "cell_type": "code",
   "execution_count": null,
   "id": "19f5293d",
   "metadata": {
    "vscode": {
     "languageId": "shellscript"
    }
   },
   "outputs": [],
   "source": []
  },
  {
   "cell_type": "code",
   "execution_count": null,
   "id": "e9c03906",
   "metadata": {
    "vscode": {
     "languageId": "shellscript"
    }
   },
   "outputs": [],
   "source": [
    "# we need to add tax to the pig ones. \n",
    "# after gather ran tables plugin for presence absense\n",
    "# for getting f_unique per species (with diff db)\n",
    "python scripts/250813_specieslvl_funique.py\n",
    "\n",
    "# need to concat all tax output\n",
    "csvtk concat *.csv > ../gtdbmags_pig.tax.summarized.csv\n",
    "\n",
    "# then use python script to get sums at each tax level. \n"
   ]
  },
  {
   "cell_type": "code",
   "execution_count": null,
   "id": "96031504",
   "metadata": {
    "vscode": {
     "languageId": "shellscript"
    }
   },
   "outputs": [],
   "source": []
  }
 ],
 "metadata": {
  "language_info": {
   "name": "python"
  }
 },
 "nbformat": 4,
 "nbformat_minor": 5
}
