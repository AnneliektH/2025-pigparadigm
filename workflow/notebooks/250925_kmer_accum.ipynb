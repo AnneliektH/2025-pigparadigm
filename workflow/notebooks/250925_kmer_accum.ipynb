{
 "cells": [
  {
   "cell_type": "markdown",
   "id": "994df75f",
   "metadata": {},
   "source": [
    "# get accumulation of unique kmers over eacH MAG\n",
    "# cript is new_kmers_mags.py"
   ]
  },
  {
   "cell_type": "code",
   "execution_count": null,
   "id": "1d413232",
   "metadata": {
    "vscode": {
     "languageId": "plaintext"
    }
   },
   "outputs": [],
   "source": [
    "# manysearch?\n",
    "        sourmash scripts manysearch {input.contigs} \\\n",
    "        {input.metag} -o {output.csv} -c 24\n",
    "\n",
    " sourmash scripts manysearch MAGs.all_taxed.zip MAGs.all_taxed.zip -k 31 -c 24 -o 250925_manysearch.MAGxMAG.csv\n"
   ]
  }
 ],
 "metadata": {
  "language_info": {
   "name": "python"
  }
 },
 "nbformat": 4,
 "nbformat_minor": 5
}
