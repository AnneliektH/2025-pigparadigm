{
 "cells": [
  {
   "cell_type": "markdown",
   "id": "1115ba7a",
   "metadata": {},
   "source": [
    "### Compare gtdb and mags\n",
    "If (and I think this is true) new MAGs and undereplicated GTDB provide almost the same coverage, then how much new genomic content did we just uncover? Did we uncover anything new? How many of the kmers in MAGs are also in GTDB (all)? If it's almost everything, that would suggest that most of the sequence diversity is already captured in GTDB, but people aren't using it. That would also mean that no new MAGs have to be created, because that is not helping. Instead we would have to look for a different way of finding more kmers belonging to (yet) unknown species. \n",
    "\n",
    "\n",
    "How to test:\n",
    "- Make pangenomedb of gtdb all\n",
    "- Subtract MAGs (all) from GTDB. \n",
    "\n",
    "Threshold of 0 recovers between 70-90% \n",
    "\n",
    "### Species level pangenomedb\n",
    "With a species lvl pangenomedb and threshold of 0: What do we get? What species are abundant. \n",
    "What species are now better represented than before in pig gut metaGs? \n",
    "Which ones now have higher f_unique weighted? How many of that species did we assemble?\n"
   ]
  },
  {
   "cell_type": "code",
   "execution_count": null,
   "id": "47095516",
   "metadata": {
    "vscode": {
     "languageId": "shellscript"
    }
   },
   "outputs": [],
   "source": [
    "# create the pangenome db \n",
    "\n",
    "# Can I give this 2 dbs?\n",
    "# Doesnt matter: Gather can take 2 rocksdbs \n",
    "# Can then use the concatenated tax file \n",
    "\n",
    "# in results/gtdb_pangenomedb\n",
    "mamba activate pangenomics_dev\n",
    "sourmash scripts pangenome_createdb \\\n",
    "/group/ctbrowngrp5/sourmash-db/gtdb-rs226/gtdb-rs226.k21.rocksdb \\\n",
    "-t /group/ctbrowngrp5/sourmash-db/gtdb-rs226/gtdb-rs226.lineages.csv \\\n",
    "-k 31 --scaled 10000 -o gtdb-rs226.pangenomedb_species.10k.zip\n",
    "\n",
    "\n",
    "# one for mags\n",
    "mamba activate pangenomics_dev\n",
    "sourmash scripts pangenome_createdb \\\n",
    "/group/ctbrowngrp2/amhorst/2025-pigparadigm/results/sketches/MAGs.all_k31.rocksdb \\\n",
    "-t 250807_tax_for_sourmash.csv \\\n",
    "-k 31 --scaled 10000 -o sra_mags.pangenomedb_species.10k.zip"
   ]
  },
  {
   "cell_type": "code",
   "execution_count": null,
   "id": "a9c60c74",
   "metadata": {
    "vscode": {
     "languageId": "shellscript"
    }
   },
   "outputs": [],
   "source": [
    "# combining the GTDB with MAGs taxonomy files\n",
    "sourmash tax prepare --taxonomy \\\n",
    "/group/ctbrowngrp5/sourmash-db/gtdb-rs226/gtdb-rs226.lineages.csv \\\n",
    "/group/ctbrowngrp2/amhorst/2025-pigparadigm/results/gtdb_pangenomedb/250807_tax_for_sourmash.csv \\\n",
    "-o 250807_gtdb_sraMAGs.lineages.db\n",
    "\n"
   ]
  },
  {
   "cell_type": "markdown",
   "id": "abb12be7",
   "metadata": {},
   "source": [
    "## Run gather, then tax annotate\n",
    "- Gather against GTDB species \n",
    "- Gather against GTDB + MAGs\n",
    "- Use threshold of 0"
   ]
  },
  {
   "cell_type": "code",
   "execution_count": null,
   "id": "ba288690",
   "metadata": {
    "vscode": {
     "languageId": "shellscript"
    }
   },
   "outputs": [],
   "source": [
    "# Run gather in a snakemake then run sourmash tax??\n",
    "srun --account=ctbrowngrp -p bmm -J calc-pres -t 8:00:00 -c 120 --mem=120gb --pty bash\n",
    "\n",
    "# run the script\n",
    "mamba activate branchwater-skipmer\n",
    "snakemake --use-conda --resources mem_mb=120000 --rerun-triggers mtime \\\n",
    "-c 120 --rerun-incomplete -k -s gather_pangenomedb.smk -n\n"
   ]
  },
  {
   "cell_type": "markdown",
   "id": "0164fb5e",
   "metadata": {},
   "source": [
    "# Make a species level pangenome db \n",
    "- One with just GTDB and one with GTDB + MAGs\n",
    "- Gives us an idea of what species are now better represented\n"
   ]
  },
  {
   "cell_type": "code",
   "execution_count": null,
   "id": "c3d3233b",
   "metadata": {
    "vscode": {
     "languageId": "shellscript"
    }
   },
   "outputs": [],
   "source": [
    "# did colton already have db? \n",
    " find /some/path -name \\*substring\\* -type d\\\n",
    "find /group/ctbrowngrp3/baumlerc -name \\*gtdb\\* -type d\n",
    "\n",
    "~/dissertation-project/fastgather-test/query_dbs/gtdb-rs220-k31.species.zip"
   ]
  },
  {
   "cell_type": "code",
   "execution_count": null,
   "id": "e1b8d10c",
   "metadata": {
    "vscode": {
     "languageId": "shellscript"
    }
   },
   "outputs": [],
   "source": [
    "\n",
    "# then for sketching\n",
    "srun --account=ctbrowngrp -p med2 -J sketch -t 24:00:00 -c 4 --mem=100gb --pty bash\n",
    "\n",
    "srun --account=ctbrowngrp -p med2 -J sketch -t 1:00:00 -c 1 --mem=50gb --pty bash\n",
    "\n",
    "# then also make a pangenome db bc its faster \n",
    "mamba activate pangenomics_dev\n",
    "sourmash scripts pangenome_merge \\\n",
    "/group/ctbrowngrp5/sourmash-db/gtdb-rs226/gtdb-rs226.k21.rocksdb \\\n",
    "-k 21 --scaled 10000 -o gtdb-rs226.pangenomedb.10k.zip\n",
    "\n",
    "\n",
    "# also maybe one for reps (wait with running gather until finised)\n",
    "sourmash scripts pangenome_merge \\\n",
    "/group/ctbrowngrp5/sourmash-db/gtdb-rs226/gtdb-rs226-reps.k21.rocksdb \\\n",
    "-k 21 --scaled 10000 -o gtdb-rs226-reps.pangenomedb.10k.zip"
   ]
  },
  {
   "cell_type": "markdown",
   "id": "7517b36c",
   "metadata": {},
   "source": [
    "could we do sig merge?"
   ]
  },
  {
   "cell_type": "code",
   "execution_count": null,
   "id": "a0de3a23",
   "metadata": {
    "vscode": {
     "languageId": "shellscript"
    }
   },
   "outputs": [],
   "source": [
    "find /group/ctbrowngrp* -name \\*baumler\\* -type d"
   ]
  }
 ],
 "metadata": {
  "language_info": {
   "name": "python"
  }
 },
 "nbformat": 4,
 "nbformat_minor": 5
}
