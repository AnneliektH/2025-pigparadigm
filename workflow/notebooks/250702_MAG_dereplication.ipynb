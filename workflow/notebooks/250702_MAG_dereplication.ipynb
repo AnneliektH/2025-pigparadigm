{
 "cells": [
  {
   "cell_type": "markdown",
   "id": "90a5afe8",
   "metadata": {},
   "source": [
    "## Dereplicating and organizing set of MAGs:\n",
    "- We assembled > 900 metagenomes\n",
    "- These all created MAGs. \n",
    "- I need a folder with all MAGs, a tsv with all taxonomy and a tsv with all quality (csvtk)\n",
    "- Then we need that dRep quality file\n",
    "- Dereplicate at 95% and 99% ANI. Create sourmash dbs of these sets\n",
    "\n",
    "\n",
    "\n",
    "For drep quality file:\n",
    "- https://drep.readthedocs.io/en/master/advanced_use.html#using-external-genome-quality-information\n",
    "- https://github.com/MrOlm/drep/issues/220\n",
    "- https://genomicsaotearoa.github.io/metagenomics_summer_school/resources/1_APPENDIX_ex8_Dereplication/#step-3\n"
   ]
  },
  {
   "cell_type": "markdown",
   "id": "6899ce70",
   "metadata": {},
   "source": [
    "# show commands\n",
    "sourmash info -v"
   ]
  },
  {
   "cell_type": "code",
   "execution_count": null,
   "id": "c0c26944",
   "metadata": {
    "vscode": {
     "languageId": "shellscript"
    }
   },
   "outputs": [],
   "source": [
    "# MAG location:\n",
    "/group/ctbrowngrp2/scratch/annie/2023-swine-sra/results/MAGs/genomes/all_genomes/*.fasta\n",
    "# quality report location:\n",
    "/group/ctbrowngrp2/scratch/annie/2023-swine-sra/results/MAGs/genome_quality/*\n",
    "# taxonomy report location:\n",
    "/group/ctbrowngrp2/scratch/annie/2023-swine-sra/results/MAGs/taxonomy/*\n",
    "\n",
    "# need to concatenate quality and tax with csvtk\n",
    "# taxonomy\n",
    "mamba activate csvtk\n",
    "csvtk concat *.tsv -t > ../250411_mag_taxonomy.tsv\n",
    "# quality\n",
    "csvtk concat  *.tsv -t > ../250411_mag_quality.tsv\n"
   ]
  },
  {
   "cell_type": "code",
   "execution_count": null,
   "id": "1062f62e",
   "metadata": {
    "vscode": {
     "languageId": "shellscript"
    }
   },
   "outputs": [],
   "source": [
    "\n",
    "### Quality file for dRep:\n",
    "awk -F'\\t' 'BEGIN {OFS=\",\"} {print $1, $2, $4}' /group/ctbrowngrp2/scratch/annie/2023-swine-sra/results/MAGs/250410_mag_quality.tsv > 250410_mag_qual.drep.csv\n",
    "\n",
    "# In the new file convert headings to: genome,completeness,contamination\n",
    "# drep also needs the trailing .fasta \n",
    "echo \"genome,completeness,contamination\" > 250411_dRep.genomeInfo\n",
    "cut -f1,2,4 /group/ctbrowngrp2/scratch/annie/2023-swine-sra/results/MAGs/250411_mag_quality.tsv | sed 's/\\t/.fasta\\t/' | sed 's/\\t/,/g' | tail -n+2 >> 250411_dRep.genomeInfo"
   ]
  },
  {
   "cell_type": "code",
   "execution_count": null,
   "id": "6d41b569",
   "metadata": {
    "vscode": {
     "languageId": "shellscript"
    }
   },
   "outputs": [],
   "source": [
    "# use drep\n",
    "srun --account=ctbrowngrp -p high2 -J drep -t 15:00:00 -c 32 --mem=80gb --pty bash\n",
    "\n",
    "# 95% ANI\n",
    "mamba activate drep\n",
    "dRep dereplicate \\\n",
    "drep.95 \\\n",
    "--genomeInfo 250703_dRep.genomeInfo \\\n",
    "-p 32 \\\n",
    "-g /group/ctbrowngrp2/scratch/annie/2023-swine-sra/results/MAGs/genomes/all_genomes/*.fasta \\\n",
    "-pa 0.9 -sa 0.95 -nc 0.30 -cm larger \\\n",
    "-comp 50 -con 10 -l 1000 \n",
    "\n",
    "# 99% ANI\n",
    "mamba activate drep\n",
    "dRep dereplicate \\\n",
    "drep.99 \\\n",
    "--genomeInfo 250703_dRep.genomeInfo \\\n",
    "-p 32 \\\n",
    "-g /group/ctbrowngrp2/scratch/annie/2023-swine-sra/results/MAGs/genomes/all_genomes/*.fasta \\\n",
    "-pa 0.9 -sa 0.99 -nc 0.30 -cm larger \\\n",
    "-comp 50 -con 10 -l 1000 \n",
    "\n",
    "\n"
   ]
  },
  {
   "cell_type": "code",
   "execution_count": null,
   "id": "8f37f967",
   "metadata": {
    "vscode": {
     "languageId": "shellscript"
    }
   },
   "outputs": [],
   "source": [
    "# need to create sketches for all first...\n",
    "# need to first sketch the MAGs, manysketch\n",
    "# need to first sketch the MAGs, manysketch\n",
    "\n",
    "echo name,genome_filename,protein_filename > manysketch_all.csv\n",
    "for i in *.fasta\n",
    "do\n",
    "  echo \"$i,$(realpath \"$i\"),\"\n",
    "done >> /group/ctbrowngrp2/amhorst/2025-pigparadigm/results/sketches/250707_manysketch_all.csv\n",
    "\n",
    "\n",
    "# then for sketching\n",
    "srun --account=ctbrowngrp -p med2 -J sketch -t 2:00:00 -c 60 --mem=100gb --pty bash\n",
    "\n",
    "# sketch\n",
    "sourmash scripts manysketch -p dna,k=21,k=31,scaled=1000,abund \\\n",
    "-c 24 250707_manysketch_all.csv -o MAGs.all.zip\n",
    "\n",
    "\n",
    "\n",
    "# then index them for a rocksdb \n",
    "sourmash index MAGs.all.rocksdb -F rocksdb -k 31 MAGs.all_k31.zip\n",
    "\n",
    "# then also make a pangenome db bc its faster \n",
    "mamba activate pangenomics_dev\n",
    "sourmash scripts pangenome_merge \\\n",
    "MAGs.all.zip -k 31 --scaled 1000 -o MAGs.all.pangenomedb.k31.zip\n",
    "\n"
   ]
  },
  {
   "cell_type": "code",
   "execution_count": null,
   "id": "d4f9c5bf",
   "metadata": {
    "vscode": {
     "languageId": "shellscript"
    }
   },
   "outputs": [],
   "source": [
    "sourmash scripts manysketch -p dna,k=21,k=31,k=51,scaled=1000,abund \\\n",
    "-c 24 manysketch_all.csv -o MAGs.all.zip\n",
    "\n",
    "sourmash scripts manysketch -p dna,k=21,k=31,k=51,scaled=1000,abund \\\n",
    "-c 24 manysketch_99.csv -o MAGs.99.zip\n",
    "\n",
    "sourmash scripts manysketch -p dna,k=21,k=31,k=51,scaled=1000,abund \\\n",
    "-c 24 manysketch_95.csv -o MAGs.95.zip\n",
    "\n",
    "# then index them for a rocksdb \n",
    "sourmash index MAGs.all_k31.rocksdb -F rocksdb -k 31 MAGs.all.zip\n",
    "\n",
    "# then also make a pangenome db bc its faster \n",
    "mamba activate pangenomics_dev\n",
    "sourmash scripts pangenome_merge \\\n",
    "MAGs.all.zip -k 31 --scaled 1000 -o MAGs.all_k31.merged.zip\n",
    "\n",
    "mamba activate pangenomics_dev\n",
    "sourmash scripts pangenome_merge \\\n",
    "MAGs.99.zip -k 31 --scaled 1000 -o MAGs.99_k31.merged.zip\n",
    "\n",
    "mamba activate pangenomics_dev\n",
    "sourmash scripts pangenome_merge \\\n",
    "MAGs.95.zip -k 31 --scaled 1000 -o MAGs.95_k31.merged.zip"
   ]
  },
  {
   "cell_type": "code",
   "execution_count": null,
   "id": "3d23801a",
   "metadata": {
    "vscode": {
     "languageId": "shellscript"
    }
   },
   "outputs": [],
   "source": []
  }
 ],
 "metadata": {
  "language_info": {
   "name": "python"
  }
 },
 "nbformat": 4,
 "nbformat_minor": 5
}
