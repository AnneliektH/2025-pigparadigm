{
 "cells": [
  {
   "cell_type": "markdown",
   "id": "deb2c4a0",
   "metadata": {},
   "source": [
    "### Run SingleM on the 50 least explained metaGs\n",
    "- What taxa abundant\n",
    "- Are these taxa not in db?\n",
    "\n",
    "\n",
    "https://hackmd.io/IwiPIg15Ro2GAkCJPcd-OQ?meta-config=general"
   ]
  },
  {
   "cell_type": "code",
   "execution_count": null,
   "id": "57f7d3bf",
   "metadata": {
    "vscode": {
     "languageId": "shellscript"
    }
   },
   "outputs": [],
   "source": [
    "# install\n",
    "mamba create -y -c conda-forge -c bioconda --override-channels --name singlem singlem'>='0.19.0\n",
    "\n",
    "# activate\n",
    "mamba activate singlem\n",
    "\n",
    "# test\n",
    "singlem -h\n",
    "lyrebird -h"
   ]
  },
  {
   "cell_type": "code",
   "execution_count": null,
   "id": "4f61110f",
   "metadata": {
    "vscode": {
     "languageId": "shellscript"
    }
   },
   "outputs": [],
   "source": []
  },
  {
   "cell_type": "code",
   "execution_count": null,
   "id": "177083b9",
   "metadata": {
    "vscode": {
     "languageId": "shellscript"
    }
   },
   "outputs": [],
   "source": [
    "# srun\n",
    "srun --account=ctbrowngrp -p bmm -J singleM -t 8:00:00 -c 24 --mem=50gb --pty bash\n",
    "# run the script\n",
    "mamba activate branchwater-skipmer\n",
    "snakemake --use-conda --resources mem_mb=50000 --rerun-triggers mtime \\\n",
    "-c 24 --rerun-incomplete -k -s singlem.smk -n\n"
   ]
  },
  {
   "cell_type": "code",
   "execution_count": null,
   "id": "6d7235b1",
   "metadata": {
    "vscode": {
     "languageId": "shellscript"
    }
   },
   "outputs": [],
   "source": [
    "singlem pipe -1 <fastq_or_fasta1> -2 <fastq_or_fasta2> -p \\\n",
    "   <output.profile.tsv>"
   ]
  },
  {
   "cell_type": "code",
   "execution_count": null,
   "id": "16b45bd6",
   "metadata": {
    "vscode": {
     "languageId": "shellscript"
    }
   },
   "outputs": [],
   "source": [
    "# try taxburst"
   ]
  },
  {
   "cell_type": "code",
   "execution_count": null,
   "id": "5df14484",
   "metadata": {
    "vscode": {
     "languageId": "shellscript"
    }
   },
   "outputs": [],
   "source": [
    "mamba activate taxburst\n",
    "\n",
    "taxburst -F SingleM \\\n",
    "SRR11723738_singlem.tsv \\\n",
    "--save-json SRR11723738.SingleM.json\n",
    "\n"
   ]
  }
 ],
 "metadata": {
  "language_info": {
   "name": "python"
  }
 },
 "nbformat": 4,
 "nbformat_minor": 5
}
