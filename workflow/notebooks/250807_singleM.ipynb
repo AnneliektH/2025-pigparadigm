{
 "cells": [
  {
   "cell_type": "markdown",
   "id": "deb2c4a0",
   "metadata": {},
   "source": [
    "### Run SingleM on the 50 least explained metaGs\n",
    "- What taxa abundant\n",
    "- Are these taxa not in db?\n",
    "\n",
    "\n",
    "https://hackmd.io/IwiPIg15Ro2GAkCJPcd-OQ?meta-config=general"
   ]
  },
  {
   "cell_type": "code",
   "execution_count": null,
   "id": "57f7d3bf",
   "metadata": {
    "vscode": {
     "languageId": "shellscript"
    }
   },
   "outputs": [],
   "source": [
    "# install\n",
    "mamba create -y -c conda-forge -c bioconda --override-channels --name singlem singlem'>='0.19.0\n",
    "\n",
    "# activate\n",
    "mamba activate singlem\n",
    "\n",
    "# test\n",
    "singlem -h\n",
    "lyrebird -h"
   ]
  },
  {
   "cell_type": "code",
   "execution_count": null,
   "id": "4f61110f",
   "metadata": {
    "vscode": {
     "languageId": "shellscript"
    }
   },
   "outputs": [],
   "source": [
    "sourmash tax annotate -g SRR11125891.t0.gather.csv \\\n",
    "     -t /opt/shared-2/sourmash-db/entire-2025-07-11.lineages.sqld"
   ]
  },
  {
   "cell_type": "code",
   "execution_count": null,
   "id": "177083b9",
   "metadata": {
    "vscode": {
     "languageId": "shellscript"
    }
   },
   "outputs": [],
   "source": [
    "# srun\n",
    "srun --account=ctbrowngrp -p bmm -J singleM -t 8:00:00 -c 24 --mem=50gb --pty bash\n",
    "# run the script\n",
    "mamba activate branchwater-skipmer\n",
    "snakemake --use-conda --resources mem_mb=50000 --rerun-triggers mtime \\\n",
    "-c 24 --rerun-incomplete -k -s singlem.smk -n\n",
    "\n",
    "\n",
    "snakemake --use-conda --resources mem_mb=50000 --rerun-triggers mtime \\\n",
    "-c 2 --rerun-incomplete -k -s singlem.smk -n"
   ]
  },
  {
   "cell_type": "code",
   "execution_count": null,
   "id": "beed2c6d",
   "metadata": {
    "vscode": {
     "languageId": "shellscript"
    }
   },
   "outputs": [],
   "source": [
    "# how did i concatenate this?? did i even? \n",
    "csvtk concat *.norank.csv > ../250910_singleM_sourmash.comp.norank.csv\n",
    "\n",
    "# try with the most and least separate\n",
    "\n",
    "while read acc; do\n",
    "  echo \"${acc}_compare.class.csv\"\n",
    "done < /group/ctbrowngrp2/amhorst/2025-pigparadigm/resources/most_expl_metag.txt | xargs csvtk concat -t > ../250918_singleM_sourmash.comp.class.50most.csv"
   ]
  },
  {
   "cell_type": "code",
   "execution_count": null,
   "id": "6d7235b1",
   "metadata": {
    "vscode": {
     "languageId": "shellscript"
    }
   },
   "outputs": [],
   "source": [
    "singlem pipe -1 <fastq_or_fasta1> -2 <fastq_or_fasta2> -p \\\n",
    "   <output.profile.tsv>"
   ]
  },
  {
   "cell_type": "code",
   "execution_count": null,
   "id": "16b45bd6",
   "metadata": {
    "vscode": {
     "languageId": "shellscript"
    }
   },
   "outputs": [],
   "source": [
    "# try taxburst# srun\n",
    "srun --account=ctbrowngrp -p bmm -J euk -t 8:00:00 -c 24 --mem=50gb --pty bash\n",
    "# run the script\n",
    "mamba activate branchwater-skipmer\n",
    "snakemake --use-conda --resources mem_mb=50000 --rerun-triggers mtime \\\n",
    "-c 24 --rerun-incomplete -k -s singlem.smk -n\n"
   ]
  },
  {
   "cell_type": "code",
   "execution_count": null,
   "id": "5df14484",
   "metadata": {
    "vscode": {
     "languageId": "shellscript"
    }
   },
   "outputs": [],
   "source": [
    "mamba activate taxburst\n",
    "\n",
    "taxburst -F SingleM \\\n",
    "SRR11723738_singlem.tsv \\\n",
    "--save-json SRR11723738.SingleM.json\n",
    "\n"
   ]
  },
  {
   "cell_type": "markdown",
   "id": "1e63a3e8",
   "metadata": {},
   "source": [
    "### Compare sourmash and singlem\n",
    "may need to do tax annotate instead of tax metagenome letss seee"
   ]
  },
  {
   "cell_type": "code",
   "execution_count": null,
   "id": "ec49ad3d",
   "metadata": {
    "vscode": {
     "languageId": "shellscript"
    }
   },
   "outputs": [],
   "source": [
    "# compare to all sourmash output, to see what normal pig metaG at class lvl lookms like\n",
    "\n",
    "python 250905_agg_class.py \\\n",
    "../../results/sourmash_pangenome/tax/gtdbmags_pig.tax.summarized.csv \\\n",
    "../../results/sourmash_pangenome/tax/250905_tax_class.gtdbmag.summary.csv"
   ]
  },
  {
   "cell_type": "code",
   "execution_count": null,
   "id": "6e449616",
   "metadata": {
    "vscode": {
     "languageId": "shellscript"
    }
   },
   "outputs": [],
   "source": []
  },
  {
   "cell_type": "code",
   "execution_count": null,
   "id": "6b78f2e0",
   "metadata": {
    "vscode": {
     "languageId": "shellscript"
    }
   },
   "outputs": [],
   "source": [
    "sourmash tax annotate -g ERR1135319.mags_and_gtdb.csv \\\n",
    "-t ../../gtdb_pangenomedb/250807_gtdb_sraMAGs.lineages.db\n",
    "\n",
    "taxburst -F tax_annotate \\\n",
    "../results/sourmash_pangenome/gather/ERR1135319.mags_and_gtdb.with-lineages.csv \\\n",
    "-o ../results/sourmash_pangenome/tax_json/ERR1135319_sourmash.html \\\n",
    "--save-json ../results/sourmash_pangenome/tax_json/ERR1135319_sourmash.json\n",
    "\n",
    "\n",
    "taxburst -F tax_annotate \\\n",
    "../results/sourmash_pangenome/tax/individ/ERR1135319.summarized.csv \\\n",
    "-o ../results/sourmash_pangenome/tax_json/ERR1135319_sourmash.html \\\n",
    "--save-json ../results/sourmash_pangenome/tax_json/ERR1135319_sourmash.json"
   ]
  }
 ],
 "metadata": {
  "language_info": {
   "name": "python"
  }
 },
 "nbformat": 4,
 "nbformat_minor": 5
}
