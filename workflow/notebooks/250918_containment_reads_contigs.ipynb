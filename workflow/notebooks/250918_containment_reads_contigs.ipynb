{
 "cells": [
  {
   "cell_type": "markdown",
   "id": "3cd38875",
   "metadata": {},
   "source": [
    "## Compare the containment of a reads in the contigs\n",
    "Is assembly bad or is the binning bad?\n",
    "Or is co-binning a solution\n",
    "\n",
    "- sketch contigs for all assembled\n",
    "- manysearch of contigs x reads? or search\n",
    "- search merged contigs x reads"
   ]
  },
  {
   "cell_type": "markdown",
   "id": "cd3eb2eb",
   "metadata": {},
   "source": [
    "Compare containment \n",
    "\n",
    "It would be easy-ish to assess the degree to which the assembly is represented in the contigs, to see if assembly is the problem. it’s basically (1) sketch contigs (2) do manysearch of contigs against metagenomes (3) look at p_metagenome in the text output (I forget the actual column name in the CSV output)"
   ]
  },
  {
   "cell_type": "code",
   "execution_count": null,
   "id": "592754aa",
   "metadata": {
    "vscode": {
     "languageId": "powershell"
    }
   },
   "outputs": [],
   "source": [
    "# only sketches of 295\n",
    "# we need a sketch of each one.. \n",
    "sourmash sig merge \\\n",
    "*_contigs.zip -k 21 \\\n",
    "-o /group/ctbrowngrp2/amhorst/2025-pigparadigm/results/containment/all_contigs.merged.zip"
   ]
  },
  {
   "cell_type": "code",
   "execution_count": null,
   "id": "f6e63948",
   "metadata": {
    "vscode": {
     "languageId": "plaintext"
    }
   },
   "outputs": [],
   "source": [
    "# not normal search cause no abund weighted \n",
    "mamba activate branchwater-skipmer\n",
    "\n",
    "\n",
    "sourmash scripts manysearch \\\n",
    "{db} {reads} -o {output} -c {threads}\n",
    "\n",
    "sourmash scripts manysearch ../../resources/wort-pig/SRR11183364.sig \\\n",
    "/group/ctbrowngrp4/2024-kkdixit-bacteriocin/new_dir/contig_tax/sketches_metag/SRR11183364_contigs.zip\\\n",
    "-o out.csv"
   ]
  },
  {
   "cell_type": "markdown",
   "id": "4fee5d45",
   "metadata": {},
   "source": [
    "usage:  manysearch [-h] [-q] [-d] -o OUTPUT [-t THRESHOLD] [-k KSIZE] [-s SCALED]\n",
    "                   [-m {DNA,protein,dayhoff,hp,skipm1n3,skipm2n3}] [-c CORES] [-P] [-N] [--ignore-abundance] [-A]\n",
    "                   query_paths against_paths\n",
    "\n",
    "search many metagenomes for contained genomes\n",
    "\n",
    "positional arguments:\n",
    "  query_paths           input file of sketches\n",
    "  against_paths         input file of sketches\n",
    "\n",
    "\n",
    "sourmash scripts manysearch {query/contigs} {metag}"
   ]
  },
  {
   "cell_type": "code",
   "execution_count": null,
   "id": "2c9c3a5e",
   "metadata": {
    "vscode": {
     "languageId": "plaintext"
    }
   },
   "outputs": [],
   "source": [
    "/group/ctbrowngrp4/2024-kkdixit-bacteriocin/new_dir/contig_tax/sketches_metag/SRR11126214_contigs.zip\n",
    "\n",
    "SRR17241533_contigs.zip"
   ]
  },
  {
   "cell_type": "code",
   "execution_count": null,
   "id": "3c7a8df3",
   "metadata": {
    "vscode": {
     "languageId": "plaintext"
    }
   },
   "outputs": [],
   "source": [
    "srun --account=ctbrowngrp -p bmm -J containment -t 1:00:00 -c 24 --mem=50gb --pty bash\n",
    "srun --account=ctbrowngrp -p bmm -J gather -t 10:00:00 -c 24 --mem=50gb --pty bash\n",
    "\n",
    "\n",
    "mamba activate branchwater-skipmer\n",
    "snakemake --use-conda --resources mem_mb=50000 --rerun-triggers mtime \\\n",
    "-c 24 --rerun-incomplete -k -s check_containment.smk -n"
   ]
  }
 ],
 "metadata": {
  "language_info": {
   "name": "python"
  }
 },
 "nbformat": 4,
 "nbformat_minor": 5
}
