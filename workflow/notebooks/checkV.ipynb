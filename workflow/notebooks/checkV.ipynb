{
 "cells": [
  {
   "cell_type": "markdown",
   "id": "260074c8",
   "metadata": {},
   "source": [
    "### Use checkV instead of cd-hit\n",
    "Problems with cdhit not dereplicating everything properly, so would like to try checkVs scripts instead.\n",
    "\n",
    "If the dataset too big: Split into smaller, then later merge. \n"
   ]
  },
  {
   "cell_type": "code",
   "execution_count": null,
   "id": "6d56912e",
   "metadata": {
    "vscode": {
     "languageId": "shellscript"
    }
   },
   "outputs": [],
   "source": [
    "# make a blastdb\n",
    "# in: /group/ctbrowngrp2/amhorst/2025-pigparadigm/results/viral\n",
    "srun --account=ctbrowngrp -p med2 -J checkv -t 5:00:00 -c 1 --mem=50gb --pty bash\n",
    "\n",
    "mamba activate checkv\n",
    "makeblastdb -in 250418_viral_sequences.genomad.fa -dbtype nucl -out blastdb/250418_viral_sequences\n"
   ]
  },
  {
   "cell_type": "code",
   "execution_count": null,
   "id": "869f4ae5",
   "metadata": {
    "vscode": {
     "languageId": "shellscript"
    }
   },
   "outputs": [],
   "source": [
    "# blast doesnt do multithreading but we can use parallel\n",
    "# make smaller files\n",
    "splits=500\n",
    "seqkit split ../250418_viral_sequences.genomad.fa --by-part $splits --out-dir sequence_split\n"
   ]
  },
  {
   "cell_type": "code",
   "execution_count": null,
   "id": "3c70557e",
   "metadata": {
    "vscode": {
     "languageId": "shellscript"
    }
   },
   "outputs": [],
   "source": [
    "srun --account=ctbrowngrp -p med2 -J checkv -t 5:00:00 -c 2 --mem=150gb --pty bash\n",
    "module load parallel\n",
    "mamba activate checkv\n",
    "\n",
    "ls sequence_split | parallel \"\n",
    "    blastn -query sequence_split/{} \\\n",
    "    -db ../blastdb/250418_viral_sequences \\\n",
    "    -outfmt '6 std qlen slen' \\\n",
    "    -max_target_seqs 10000 \\\n",
    "    -out blastout/{} \\\n",
    "    -num_threads 25\n",
    "\"\n",
    "\n",
    "## Use anicalc\n",
    "cat my_blast/* > my_blast.tsv\n",
    "../anicalc.py -i 250515_blastout.tsv -o 250515_vir_ani.tsv\n",
    "\n",
    "# and aniclust\n",
    "../aniclust.py --fna \\\n",
    "../250418_viral_sequences.genomad.fa --ani 250515_vir_ani.tsv \\\n",
    "--out 250516_viral_clusters.tsv --min_ani 95 --min_tcov 85 --min_qcov 0\n",
    "\n"
   ]
  },
  {
   "cell_type": "markdown",
   "id": "8bef3d01",
   "metadata": {},
   "source": [
    "### Cant figure out why sourmash viru isnt working, cant find the right kmers\n",
    "How similar are kmers between viral sequences, and how is the jaccard score compared to bacteria?\n",
    "\n",
    "I shouldve made a snakefile\n",
    "\n",
    "cdhit is not clustering things that should be clustered. dRep does cluster them. But dRep cannot handle so many sequences. Will try branchwater multisearch, followed by branchwater cluster, on average ANI column. Hopefully that would cluster more. \n"
   ]
  },
  {
   "cell_type": "code",
   "execution_count": null,
   "id": "885d7ce7",
   "metadata": {
    "vscode": {
     "languageId": "shellscript"
    }
   },
   "outputs": [],
   "source": [
    "# need to first sketch the MAGs, manysketch\n",
    "\n",
    "echo name,genome_filename,protein_filename > manysketch_all.csv\n",
    "for i in *.fasta\n",
    "do\n",
    "  echo \"$i,$(realpath \"$i\"),\"\n",
    "done >> /group/ctbrowngrp2/amhorst/2025-pigparadigm/results/sketches/manysketch_all.csv\n",
    "\n",
    "\n",
    "# then for sketching\n",
    "srun --account=ctbrowngrp -p med2 -J skipm -t 2:00:00 -c 60 --mem=100gb --pty bash\n",
    "\n",
    "sourmash scripts manysketch -p dna,k=21,k=31,k=51,scaled=100 \\\n",
    "-c 60 manysketch_99.csv -o MAGs.99.zip\n"
   ]
  },
  {
   "cell_type": "code",
   "execution_count": null,
   "id": "f79ae59d",
   "metadata": {
    "vscode": {
     "languageId": "shellscript"
    }
   },
   "outputs": [],
   "source": [
    "# make it into a rocksdb \n",
    "mamba activate branchwater-skipmer\n",
    "\n",
    "srun --account=ctbrowngrp -p med2 -J skipm -t 2:00:00 -c 60 --mem=100gb --pty bash\n",
    "\n",
    "sourmash index MAGs.99.rocksdb MAGs.99.dna.zip -F rocksdb\n"
   ]
  },
  {
   "cell_type": "code",
   "execution_count": null,
   "id": "66e4434f",
   "metadata": {
    "vscode": {
     "languageId": "shellscript"
    }
   },
   "outputs": [],
   "source": [
    "# pairwise the MAGs\n",
    "sourmash scripts pairwise \\\n",
    "MAGs.99.dna.zip -m DNA -k 51 \\\n",
    "-s 1000 -t 0.5 -o ../pairwise/MAGs.dna.k51.s1000.csv \\\n",
    "-c 60\n",
    "\n",
    "sourmash scripts pairwise \\\n",
    "MAGs.99.dna.zip -m DNA -k 31 \\\n",
    "-s 100 -t 0.5 -o ../pairwise/MAGs.dna.k31.csv \\\n",
    "-c 60\n",
    "\n",
    "sourmash scripts pairwise \\\n",
    "MAGs.99.dna.zip -m DNA -k 21 \\\n",
    "-s 100 -t 0.5 -o ../pairwise/MAGs.dna.k21.csv \\\n",
    "-c 60\n",
    "\n"
   ]
  },
  {
   "cell_type": "code",
   "execution_count": null,
   "id": "555ef5c0",
   "metadata": {
    "vscode": {
     "languageId": "shellscript"
    }
   },
   "outputs": [],
   "source": [
    "mamba activate branchwater-skipmer\n",
    "\n",
    "srun --account=ctbrowngrp -p med2 -J skipm -t 2:00:00 -c 40 --mem=100gb --pty bash\n",
    "\n",
    "sourmash scripts pairwise \\\n",
    "pig_votus.skipmer.zip -m skipm2n3 -k 21 \\\n",
    "-s 100 -t 0.5 -o ../pairwise/pairwise_votus.skipm2n3.k21.csv \\\n",
    "-c 40 --write-all\n",
    "\n",
    "sourmash scripts pairwise \\\n",
    "pig_votus.skipmer.zip -m skipm2n3 -k 27 \\\n",
    "-s 100 -t 0.5 -o ../pairwise/pairwise_votus.skipm2n3.k27.csv \\\n",
    "-c 40 --write-all\n",
    "\n",
    "sourmash scripts pairwise \\\n",
    "pig_votus.skipmer.zip -m skipm2n3 -k 24 \\\n",
    "-s 100 -t 0.5 -o ../pairwise/pairwise_votus.skipm2n3.k24.csv \\\n",
    "-c 40 --write-all\n",
    "\n",
    "sourmash scripts pairwise \\\n",
    "hq_virseqs.singleton.95.zip -m DNA -k 51 \\\n",
    "-s 100 -t 0.5 -o ../pairwise/pairwise_votus.dna.k51.csv \\\n",
    "-c 40 --write-all\n",
    "\n",
    "sourmash scripts pairwise \\\n",
    "hq_virseqs.singleton.95.zip -m DNA -k 31 \\\n",
    "-s 100 -t 0.5 -o ../pairwise/pairwise_votus.dna.k31.csv \\\n",
    "-c 40 --write-all\n",
    "\n",
    "sourmash scripts pairwise \\\n",
    "hq_virseqs.singleton.95.zip -m DNA -k 21 \\\n",
    "-s 100 -t 0.5 -o ../pairwise/pairwise_votus.dna.k21.csv \\\n",
    "-c 40 --write-all"
   ]
  },
  {
   "cell_type": "code",
   "execution_count": null,
   "id": "7f2601c3",
   "metadata": {
    "vscode": {
     "languageId": "shellscript"
    }
   },
   "outputs": [],
   "source": [
    "dRep dereplicate ./drep --S_algorithm ANImf \\\n",
    "--ignoreGenomeQuality -l 500 -sa 0.95 -nc 0.85 \\\n",
    "-g ./250418_plasmid_sequences.genomad.fa.split/*.fa -p 48"
   ]
  }
 ],
 "metadata": {
  "language_info": {
   "name": "python"
  }
 },
 "nbformat": 4,
 "nbformat_minor": 5
}
