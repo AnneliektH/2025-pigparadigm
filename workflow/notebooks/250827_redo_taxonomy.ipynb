{
 "cells": [
  {
   "cell_type": "code",
   "execution_count": null,
   "id": "0eb5564b",
   "metadata": {
    "vscode": {
     "languageId": "powershell"
    }
   },
   "outputs": [],
   "source": []
  },
  {
   "cell_type": "code",
   "execution_count": null,
   "id": "f6a42213",
   "metadata": {
    "vscode": {
     "languageId": "powershell"
    }
   },
   "outputs": [],
   "source": []
  },
  {
   "cell_type": "markdown",
   "id": "9dc220ba",
   "metadata": {},
   "source": [
    "### Redo MAG taxonomy \n",
    "- Used an older version of GTDB with Atlas, now not comparable with GTDB tax. \n",
    "- Reclassify using sourmash and GTDB 226\n",
    "- Keep track of genomes without tax. Run GTDB-tk on only those. "
   ]
  },
  {
   "cell_type": "code",
   "execution_count": null,
   "id": "aa18dad0",
   "metadata": {
    "vscode": {
     "languageId": "powershell"
    }
   },
   "outputs": [],
   "source": [
    "# see snakefile tax_gneomes.smk\n",
    "srun --account=ctbrowngrp -p med2 -J calc-pres -t 6:00:00 -c 60 --mem=80gb --pty bash\n",
    "# run the script\n",
    "mamba activate branchwater-skipmer\n",
    "snakemake --use-conda --resources mem_mb=80000 --rerun-triggers mtime \\\n",
    "-c 60 --rerun-incomplete -k -s snakefiles/tax_genomes.smk -n"
   ]
  },
  {
   "cell_type": "code",
   "execution_count": null,
   "id": "94bec2a8",
   "metadata": {
    "vscode": {
     "languageId": "powershell"
    }
   },
   "outputs": [],
   "source": [
    "# Activate the GTDB-Tk conda environment\n",
    "conda activate GTDBTK_DATA_PATH\n",
    "\n",
    "# check what is curr db\n",
    "echo $GTDBTK_DATA_PATH\n",
    "/home/amhorst/database_atlas/GTDB_V08_R214/ \n",
    "\n",
    "# Set the environment variable to the directory containing the GTDB-Tk reference data\n",
    "conda env config vars set GTDBTK_DATA_PATH=\"/path/to/unarchived/gtdbtk/data\";"
   ]
  },
  {
   "cell_type": "code",
   "execution_count": null,
   "id": "ce4ddae0",
   "metadata": {
    "vscode": {
     "languageId": "powershell"
    }
   },
   "outputs": [],
   "source": [
    "# how to update i forgot\n",
    "history | grep pip  | tail -n 10\n",
    "\n",
    "\n",
    "pip install -U taxburst\n",
    "python -m pip install gtdbtk --upgrade\n"
   ]
  },
  {
   "cell_type": "code",
   "execution_count": null,
   "id": "548c063d",
   "metadata": {
    "vscode": {
     "languageId": "powershell"
    }
   },
   "outputs": [],
   "source": [
    "# need to download the db\n",
    "srun --account=ctbrowngrp -p med2 -J calc-pres -t 48:00:00 -c 2 --mem=10gb --pty bash\n"
   ]
  },
  {
   "cell_type": "code",
   "execution_count": null,
   "id": "a192c6d9",
   "metadata": {
    "vscode": {
     "languageId": "powershell"
    }
   },
   "outputs": [],
   "source": [
    "\n",
    "\n",
    "# dir for doing this\n",
    "mkdir results/redo_taxonomy/\n",
    "cd results/redo_taxonomy/\n",
    "\n",
    "# copy genomes\n",
    "cp ../atlas/atlas_SRR11183532/genomes/genomes/AtH2023_SRR11183532_MAG7.fasta .\n",
    "cp ../atlas/atlas_SRR7182054/genomes/genomes/AtH2023_SRR7182054_MAG7.fasta .\n",
    "\n",
    "# srun\n",
    "srun --account=ctbrowngrp -p med2 -J smash -t 1:00:00 -c 16 --mem=60gb --pty bash\n",
    "\n",
    "\n",
    "mamba activate gtdbtk\n",
    "gtdbtk classify_wf --cpus 16 --genome_dir ./genomes --extension fasta \\\n",
    "--skip_ani_screen --out_dir taxonomy\n",
    "\n",
    "\n",
    "cp ../../atlas/atlas_SRR7182054/genomes/taxonomy/gtdb_taxonomy.tsv ./gtdb_taxonomy_SRR7182054.tsv\n",
    "cp ../../atlas/atlas_SRR11183532/genomes/taxonomy/gtdb_taxonomy.tsv ./gtdb_taxonomy_SRR11183532.tsv\n",
    "\n",
    "nano ../../atlas_SRR7182054/genomes/taxonomy/gtdb_taxonomy.t"
   ]
  }
 ],
 "metadata": {
  "language_info": {
   "name": "python"
  }
 },
 "nbformat": 4,
 "nbformat_minor": 5
}
