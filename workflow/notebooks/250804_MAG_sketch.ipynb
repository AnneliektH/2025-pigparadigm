{
 "cells": [
  {
   "cell_type": "markdown",
   "id": "f40585d5",
   "metadata": {},
   "source": [
    "### Need one sketch per set of MAGs (from one metaG)\n",
    "- Flat sketch, k21. Also do at k31"
   ]
  },
  {
   "cell_type": "code",
   "execution_count": null,
   "id": "aca4ef93",
   "metadata": {
    "vscode": {
     "languageId": "shellscript"
    }
   },
   "outputs": [],
   "source": [
    "# merge signatures. \n",
    "srun --account=ctbrowngrp -p med2 -J calc-pres -t 4:00:00 -c 24 --mem=80gb --pty bash\n",
    "\n",
    "# run the script\n",
    "mamba activate branchwater-skipmer\n",
    "\n",
    "snakemake --use-conda --resources mem_mb=120000 --rerun-triggers mtime \\\n",
    "-c 120 --rerun-incomplete -k -s sketch_mag.smk -n"
   ]
  },
  {
   "cell_type": "code",
   "execution_count": null,
   "id": "92048d2c",
   "metadata": {
    "vscode": {
     "languageId": "shellscript"
    }
   },
   "outputs": [],
   "source": [
    "# merge signatures. \n",
    "srun --account=ctbrowngrp -p med2 -J calc-pres -t 4:00:00 -c 24 --mem=80gb --pty bash\n",
    "\n",
    "# run the script\n",
    "mamba activate branchwater-skipmer\n",
    "\n",
    "snakemake --use-conda --resources mem_mb=80000 --rerun-triggers mtime \\\n",
    "-c 24 --rerun-incomplete -k -s snakefiles/sketch_mag.smk -n"
   ]
  },
  {
   "cell_type": "code",
   "execution_count": null,
   "id": "425698a0",
   "metadata": {
    "vscode": {
     "languageId": "shellscript"
    }
   },
   "outputs": [],
   "source": []
  },
  {
   "cell_type": "markdown",
   "id": "07e480af",
   "metadata": {},
   "source": [
    "### Create species level databases at k31\n",
    "- One for GTDB\n",
    "- One for GTDB + MAGS. \n",
    "- Compare genomes or reps?\n",
    "\n",
    "Run x metagenomes\n",
    "What species are more in the metagenomes when adding new speices\n",
    "\n",
    "DB with one sketch per species: What species gained the most kmers? \n",
    "Compare the f_unique_weighted sum between species? \n",
    "Or just the sketch size? Num kmers. \n",
    "\n",
    "(Does colton already have a species level db?)\n",
    "\n",
    "- Run gather x species db \n",
    "- Tax classify the output. \n",
    "\n",
    "https://github.com/dib-lab/sourmash_plugin_pangenomics\n"
   ]
  },
  {
   "cell_type": "code",
   "execution_count": null,
   "id": "f5c656f7",
   "metadata": {
    "vscode": {
     "languageId": "shellscript"
    }
   },
   "outputs": [],
   "source": [
    "# create the pangenome db \n",
    "mamba activate pangenomics_dev\n",
    "sourmash scripts pangenome_createdb \\\n",
    "/group/ctbrowngrp5/sourmash-db/gtdb-rs226/gtdb-rs226.k21.rocksdb \\\n",
    "-t /group/ctbrowngrp5/sourmash-db/gtdb-rs226/gtdb-rs226.lineages.csv\n",
    "-k 31 --scaled 10000 -o gtdb-rs226.pangenomedb_species.10k.zip"
   ]
  },
  {
   "cell_type": "code",
   "execution_count": null,
   "id": "f1f1810c",
   "metadata": {
    "vscode": {
     "languageId": "shellscript"
    }
   },
   "outputs": [],
   "source": [
    "sourmash scripts pangenome_createdb \\\n",
    "    gtdb-rs214-agatha-k21.zip \\\n",
    "    -t gtdb-rs214-agatha.lineages.csv.gz \\\n",
    "    -o agatha-merged.sig.zip --abund -k 21"
   ]
  },
  {
   "cell_type": "code",
   "execution_count": null,
   "id": "7d4f4a12",
   "metadata": {
    "vscode": {
     "languageId": "shellscript"
    }
   },
   "outputs": [],
   "source": [
    "# create db\n",
    "sourmash scripts manysketch -p dna,k=21,k=31,k=51,scaled=1000,abund \\\n",
    "-c 24 manysketch_all.csv -o MAGs.all.zip\n",
    "\n",
    "# then index them for a rocksdb \n",
    "sourmash index MAGs.all_k31.rocksdb -F rocksdb -k 31 MAGs.all.zip\n",
    "\n",
    "# figure out the lineages file "
   ]
  },
  {
   "cell_type": "code",
   "execution_count": null,
   "id": "3dfb2631",
   "metadata": {
    "vscode": {
     "languageId": "shellscript"
    }
   },
   "outputs": [],
   "source": [
    "## Now do taxonomy for all the gather results. \n",
    "# create a from file where the gather results are.\n",
    "find ./gather -type f -name \"*.gtdb.csv\" > fp.gather_out_gtdb.txt\n",
    "find ./gather -type f -name \"*.mags_and_gtdb.csv\" > fp.gather_out_mags_and_gtdb.txt\n",
    "\n",
    "# merge signatures. \n",
    "srun --account=ctbrowngrp -p med2 -J calc-pres -t 4:00:00 -c 24 --mem=80gb --pty bash\n",
    "\n",
    "# run the script\n",
    "mamba activate branchwater-skipmer\n",
    "\n",
    "# tax\n",
    "sourmash tax annotate \\\n",
    "--taxonomy ../gtdb_pangenomedb/gtdb-rs226.lineages.csv \\\n",
    "--from-file fp.gather_out_gtd1.txt \\\n",
    "--output-dir ./tax\n",
    "\n",
    "sourmash tax metagenome \\\n",
    "--taxonomy ../gtdb_pangenomedb/gtdb-rs226.lineages.csv \\\n",
    "--from-file fp.gather_out_gtdb.txt -F csv_summary \\\n",
    "--output-dir ./tax -o gtdb_pig.tax\n",
    "\n",
    "sourmash tax metagenome \\\n",
    "--taxonomy ../gtdb_pangenomedb/250807_gtdb_sraMAGs.lineages.db \\\n",
    "--from-file fp.gather_out_mags_and_gtdb.txt -F csv_summary \\\n",
    "--output-dir ./tax -o gtdb_sraMAGs_pig.tax\n"
   ]
  },
  {
   "cell_type": "code",
   "execution_count": null,
   "id": "fb06d2a7",
   "metadata": {
    "vscode": {
     "languageId": "shellscript"
    }
   },
   "outputs": [],
   "source": []
  },
  {
   "cell_type": "code",
   "execution_count": null,
   "id": "7b7b3cfb",
   "metadata": {
    "vscode": {
     "languageId": "shellscript"
    }
   },
   "outputs": [],
   "source": [
    "../results/gtdb_pangenomedb/gtdb-rs226.lineages.csv\n",
    "../results/gtdb_pangenomedb/250807_gtdb_sraMAGs.lineages.db\n",
    "\n",
    "sourmash tax metagenome\n",
    "    --gather-csv HSMA33MX_gather_x_gtdbrs202_k31.csv \\\n",
    "    --taxonomy gtdb-rs202.taxonomy.v2.csv\n",
    "\n",
    "sourmash tax metagenome --gather-csv \\\n",
    "../gather/ERR1135182.gtdb.csv --taxonomy ../../gtdb_pangenomedb/gtdb-rs226.lineages.csv \\\n",
    "-o ERR1135182.gtdb\n",
    "\n",
    "sourmash tax metagenome --gather-csv \\\n",
    "../gather/ERR1135182.mags_and_gtdb.csv --taxonomy ../../gtdb_pangenomedb/250807_gtdb_sraMAGs.lineages.db \\\n",
    "-o ERR1135182.mags_and_gtdb\n",
    "\n",
    "# will prons ne\n"
   ]
  }
 ],
 "metadata": {
  "language_info": {
   "name": "python"
  }
 },
 "nbformat": 4,
 "nbformat_minor": 5
}
