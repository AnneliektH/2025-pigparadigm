{
 "cells": [
  {
   "cell_type": "markdown",
   "metadata": {},
   "source": [
    "## Try and estimate viral fraction of pig gut metaG:\n",
    "We have pig gut metagenomes, from which a certain part is most probably viral. Can we estimate what % of the metaG is viral using sourmash? Do these estimations agree with the read mapping estimations? \n",
    "How do these percentages differ at scale 1000 vs 100 (they don't).\n",
    "\n"
   ]
  },
  {
   "cell_type": "markdown",
   "metadata": {
    "vscode": {
     "languageId": "shellscript"
    }
   },
   "source": [
    "## Sourmash is able to find the fraction but not the proper sequences\n",
    "While sourmash is able to estimate the portion of the metaG that is composed of viral sequences, it does not do a good job in finding which viral sequences. Maybe skipmers will make this more viable, would like to test on 50 metaGs or so: These ones should already be sketched. However, would like to compare to read mapping so would have to be the same sequences \n",
    "\n",
    "Read mapping was done to 95% deduplicated viral sequences. How would we compare to skipmers?\n",
    "- build skipmer database of the skipm2n3 for 95% ANI dedup vOTUs (singleton)\n",
    "- make skipmer signatures for 50 metaGs that have been read-mapped as well: readmap_pig.txt has these \n",
    "- run manysearch or fastgather\n",
    "\n",
    "Reads are already sketched, into 1 giant file. So are the vOTUs (for taxonomy)\n",
    "\n",
    "\n",
    "### So skipmers are not improving number of viruses found by much:\n",
    "How much of the content in the db is exactly similar? Maybe thats why it picks up fragments of all these small pieces of virus. Use sourmash pairwise, should show similarity within db. Then use betterplot to plot the similarity.\n",
    "k-size too small? Maybe compare kmers and larger skipmers too. Biggest skipmer i have is 27. "
   ]
  },
  {
   "cell_type": "code",
   "execution_count": null,
   "metadata": {
    "vscode": {
     "languageId": "shellscript"
    }
   },
   "outputs": [],
   "source": [
    "mamba activate branchwater-skipmer\n",
    "\n",
    "srun --account=ctbrowngrp -p med2 -J skipm -t 2:00:00 -c 40 --mem=100gb --pty bash\n",
    "\n",
    "sourmash scripts pairwise \\\n",
    "pig_votus.skipmer.zip -m skipm2n3 -k 21 \\\n",
    "-s 100 -t 0.5 -o ../pairwise/pairwise_votus.skipm2n3.k21.csv \\\n",
    "-c 40 --write-all\n",
    "\n",
    "sourmash scripts pairwise \\\n",
    "pig_votus.skipmer.zip -m skipm2n3 -k 27 \\\n",
    "-s 100 -t 0.5 -o ../pairwise/pairwise_votus.skipm2n3.k27.csv \\\n",
    "-c 40 --write-all\n",
    "\n",
    "sourmash scripts pairwise \\\n",
    "pig_votus.skipmer.zip -m skipm2n3 -k 24 \\\n",
    "-s 100 -t 0.5 -o ../pairwise/pairwise_votus.skipm2n3.k24.csv \\\n",
    "-c 40 --write-all\n",
    "\n",
    "sourmash scripts pairwise \\\n",
    "hq_virseqs.singleton.95.zip -m DNA -k 51 \\\n",
    "-s 100 -t 0.5 -o ../pairwise/pairwise_votus.dna.k51.csv \\\n",
    "-c 40 --write-all\n",
    "\n",
    "sourmash scripts pairwise \\\n",
    "hq_virseqs.singleton.95.zip -m DNA -k 31 \\\n",
    "-s 100 -t 0.5 -o ../pairwise/pairwise_votus.dna.k31.csv \\\n",
    "-c 40 --write-all\n",
    "\n",
    "sourmash scripts pairwise \\\n",
    "hq_virseqs.singleton.95.zip -m DNA -k 21 \\\n",
    "-s 100 -t 0.5 -o ../pairwise/pairwise_votus.dna.k21.csv \\\n",
    "-c 40 --write-all"
   ]
  },
  {
   "cell_type": "code",
   "execution_count": null,
   "metadata": {
    "vscode": {
     "languageId": "shellscript"
    }
   },
   "outputs": [],
   "source": [
    "# needs some mem\n",
    "srun --account=ctbrowngrp -p med2 -J skipm -t 1:00:00 -c 2 --mem=50gb --pty bash\n",
    "# plotting the pairwse results:\n",
    "# convert pairwise\n",
    "# may need to do the write all\n",
    "sourmash scripts pairwise_to_matrix pairwise_votus.skipm2n3.k27.csv \\\n",
    "-o pairwise_votus.skipm2n3.k27.cmp \\\n",
    "--labels-to pairwise_votus.skipm2n3.k27.labels_to.csv\n",
    "    \n",
    "# plot!\n",
    "sourmash scripts plot2 pairwise_votus.skipm2n3.k27.cmp \\\n",
    "pairwise_votus.skipm2n3.k27.labels_to.csv \\\n",
    "-o plots/plot2.votus.skipm2n3.k27.png"
   ]
  },
  {
   "cell_type": "code",
   "execution_count": null,
   "metadata": {
    "vscode": {
     "languageId": "shellscript"
    }
   },
   "outputs": [],
   "source": [
    "srun --account=ctbrowngrp -p med2 -J sketch -t 5:00:00 -c 1 --mem=50gb --pty bash\n",
    "\n",
    "# make one merged sketch for all vOTU \n",
    "mamba activate branchwater-skipmer\n",
    "\n",
    "# Sketch the viral contigs\n",
    "sourmash sketch dna \\\n",
    "-p k=21,scaled=100,k=31,scaled=100,k=51,scaled=100 --singleton \\\n",
    "/group/ctbrowngrp2/scratch/annie/2024-pigparadigm/results/vOTUs/hq_virseqs.95.cluster.fa \\\n",
    "-o hq_virseqs.singleton.95.zip"
   ]
  },
  {
   "cell_type": "code",
   "execution_count": null,
   "metadata": {
    "vscode": {
     "languageId": "shellscript"
    }
   },
   "outputs": [],
   "source": [
    "# Srun for more mem\n",
    "srun --account=ctbrowngrp -p med2 -J skipm -t 5:00:00 -c 12 --mem=50gb --pty bash\n",
    "\n",
    "# make one merged sketch for all vOTU \n",
    "mamba activate branchwater-skipmer\n",
    "\n",
    "sourmash scripts fastmultigather ../skipmer_manysearch/reads.50.skipmer.zip \\\n",
    "pig_votus.skipmer -c 12 \\\n",
    "-o votus95.skipm2n3.k21s100.csv -m skipm2n3 -k 21 -s 100 -t 200\n",
    "\n",
    "#fastgather?"
   ]
  },
  {
   "cell_type": "code",
   "execution_count": null,
   "metadata": {
    "vscode": {
     "languageId": "shellscript"
    }
   },
   "outputs": [],
   "source": [
    "# viral sequence locations:\n",
    "/group/ctbrowngrp2/scratch/annie/2024-pigparadigm/results/vOTUs/all_viral_sequences.fa\n",
    "/group/ctbrowngrp2/scratch/annie/2024-pigparadigm/results/vOTUs/hq_virseqs.95.cluster.fa"
   ]
  },
  {
   "cell_type": "markdown",
   "metadata": {},
   "source": [
    "# DNA level comparison, normal kmers\n",
    "- Sketching DNA, one concatenated sketch for all contigs "
   ]
  },
  {
   "cell_type": "code",
   "execution_count": null,
   "metadata": {
    "vscode": {
     "languageId": "shellscript"
    }
   },
   "outputs": [],
   "source": [
    "# Srun for more mem\n",
    "srun --account=ctbrowngrp -p med2 -J manysearch -t 1:00:00 -c 32 --mem=50gb --pty bash\n",
    "\n",
    "# make one merged sketch for all vOTU \n",
    "mamba activate branchwater-skipmer\n",
    "\n",
    "# Sketch the viral contigs\n",
    "sourmash sketch dna \\\n",
    "-p k=21,scaled=100,k=31,scaled=100 \\\n",
    "/group/ctbrowngrp2/scratch/annie/2024-pigparadigm/results/vOTUs/hq_virseqs.95.cluster.fa \\\n",
    "--name hq_virseq_95 -o hq_virseqs.95.merge.zip\n",
    "\n",
    "# manysearch the viral contigs x the sigs of the reads (fp.txt contains filepaths of read sigs)\n",
    "sourmash scripts manysearch hq_virseqs.95.merge.zip \\\n",
    "fp.txt -o virfrac.k21s100.highqual_95.338.csv -k 21 -s 100 -t 0"
   ]
  },
  {
   "cell_type": "markdown",
   "metadata": {},
   "source": [
    "# Read mapping using bowtie2\n",
    "- Create a bt2 database file\n",
    "- Use snakemake (see workflow/readmap.smk) for the read mapping part\n",
    "- CoverM to get number of reads that mapped"
   ]
  },
  {
   "cell_type": "code",
   "execution_count": null,
   "metadata": {
    "vscode": {
     "languageId": "shellscript"
    }
   },
   "outputs": [],
   "source": [
    "# compare this to read mapping using bowtie2\n",
    "# create a bt2 file for mapping\n",
    "# see readmap.smk\n",
    "srun --account=ctbrowngrp -p med2 -J bt2 -t 5:00:00 -c 40 --mem=50gb --pty bash\n",
    "\n",
    "mamba activate bowtie2\n",
    "bowtie2-build \\\n",
    "/group/ctbrowngrp2/scratch/annie/2024-pigparadigm/results/vOTUs/all_viral_sequences.fa \\\n",
    "all_viral_seq.bt2 -p 40 --large-index\n",
    "\n",
    "# only the 95% dedup, high quality shit\n",
    "bowtie2-build \\\n",
    "/group/ctbrowngrp2/scratch/annie/2024-pigparadigm/results/vOTUs/hq_virseqs.95.cluster.fa \\\n",
    "hq_virseqs.95.bt2 -p 40 --large-index\n",
    "\n",
    "# run snakefile\n",
    "snakemake --use-conda --resources mem_mb=50000 --rerun-triggers mtime \\\n",
    "-c 40 --rerun-incomplete -k -s readmap.smk -n\n",
    "\n",
    "# coverM with reads?\n",
    "mamba activate coverm\n",
    "coverm contig -m mean \\\n",
    "-b *.bam -o readmap_vir_t0.mean.tsv &> coverm_t0.out.txt"
   ]
  },
  {
   "cell_type": "markdown",
   "metadata": {},
   "source": [
    "## Viromes:\n",
    "- want to see if higher percent of content is estimated to be viral if using virome\n",
    "- Picked 3 SRAs that are virome acc to their metadata\n",
    "- Download sra, convert to reads\n",
    "- Sketch (DNA, skipmer)\n",
    "- manysearch"
   ]
  },
  {
   "cell_type": "code",
   "execution_count": null,
   "metadata": {
    "vscode": {
     "languageId": "shellscript"
    }
   },
   "outputs": [],
   "source": [
    "# get a virome, or 5. \n",
    "# download reads (SRA download)\n",
    "# fq dump\n",
    "# sketch\n",
    "srun --account=ctbrowngrp -p med2 -J virome -t 5:00:00 -c 40 --mem=100gb --pty bash\n",
    "# run manysearch x viral contigs\n",
    "SRR7293098\n",
    "SRR7287117\n",
    "SRR7288018\n",
    "\n",
    "conda activate sra\n",
    "aws s3 cp --quiet --no-sign-request \\\n",
    "s3://sra-pub-run-odp/sra/SRR7287117/SRR7287117 SRR7287117\n",
    "aws s3 cp --quiet --no-sign-request \\\n",
    "s3://sra-pub-run-odp/sra/SRR7288018/SRR7288018 SRR7288018"
   ]
  },
  {
   "cell_type": "code",
   "execution_count": null,
   "metadata": {
    "vscode": {
     "languageId": "shellscript"
    }
   },
   "outputs": [],
   "source": [
    "# fq dump\n",
    "for f in SRR*\n",
    "do\n",
    "fasterq-dump $f --threads 32 \\\n",
    "-O reads/$f --skip-technical \\\n",
    "--bufsize 1000MB --curcache 10000MB\n",
    "done\n",
    "\n",
    "# sketch\n",
    "for f in SRR*\n",
    "do\n",
    "sourmash sketch dna \\\n",
    "-p k=21,scaled=100,k=31,scaled=100 \\\n",
    "\"$f/${f}_1.fastq\" \"$f/${f}_2.fastq\" \\\n",
    "--name \"$f\" -o \"$f.zip\"\n",
    "done\n",
    "\n",
    "# skip sketch\n",
    "sourmash scripts manysketch -p skipm2n3,k=21,scaled=100 \\\n",
    "-c 40 fp.reads.txt -o reads_virome.skipmer.zip\n",
    "\n",
    "# skip search\n",
    "sourmash scripts manysearch pig_votus.skipmer.concat.zip -c 40 \\\n",
    "fp_manysearch.txt -o viral_fraction.virome.k21.skipm2n3.csv -m skipm2n3 -k 21 -s 100 -t 0"
   ]
  },
  {
   "cell_type": "code",
   "execution_count": null,
   "metadata": {
    "vscode": {
     "languageId": "shellscript"
    }
   },
   "outputs": [],
   "source": [
    "#manysearch\n",
    "# Does manysearch not work with zips? \n",
    "\n",
    "sourmash scripts manysearch hq_virseqs.95.merge.zip \\\n",
    "fp.txt -o virtest.k21s100.338.csv -k 21 -s 100 -t 0"
   ]
  },
  {
   "cell_type": "code",
   "execution_count": null,
   "metadata": {
    "vscode": {
     "languageId": "shellscript"
    }
   },
   "outputs": [],
   "source": [
    "# Normal search works, why not manysearch??\n",
    "sourmash search \\\n",
    "hq_virseqs.95.merge.zip \\\n",
    "/group/ctbrowngrp2/amhorst/2025-pigparadigm/results/metag_sig/ERR1135219.zip \\\n",
    " -k 21 --scaled 100 -o test.csv"
   ]
  },
  {
   "cell_type": "markdown",
   "metadata": {},
   "source": [
    "## Skipmer \n",
    "- Use skipmers see if works better"
   ]
  },
  {
   "cell_type": "code",
   "execution_count": null,
   "metadata": {
    "vscode": {
     "languageId": "shellscript"
    }
   },
   "outputs": [],
   "source": [
    "# skipmers were already sketched\n",
    "# sketch 50 reads. \n",
    "# Can we do it for 4?\n",
    "srun --account=ctbrowngrp -p med2 -J virome -t 1:00:00 -c 40 --mem=60gb --pty bash\n",
    "\n",
    "mamba activate branchwater-skipmer\n",
    "\n",
    "# sketch 5 metaGs in skipmer\n",
    "# DO NOT SKETCH SINGLETON\n",
    "sourmash scripts manysketch -p skipm2n3,k=21,k=24,k=27,abund,scaled=100 \\\n",
    "-c 40 50_readsketch.csv -o reads.50.abund.skipmer.zip\n",
    "\n",
    "# manysearch\n",
    "sourmash scripts manysearch pig_votus.skipmer.concat.zip -c 40 \\\n",
    "reads.50.skipmer.zip -o viral_fraction.50.k21.skipm2n3.csv -m skipm2n3 -k 21 -s 100 -t 0"
   ]
  },
  {
   "cell_type": "code",
   "execution_count": null,
   "metadata": {
    "vscode": {
     "languageId": "shellscript"
    }
   },
   "outputs": [],
   "source": []
  },
  {
   "cell_type": "code",
   "execution_count": null,
   "metadata": {
    "vscode": {
     "languageId": "shellscript"
    }
   },
   "outputs": [],
   "source": [
    "mamba activate branchwater-skipmer\n",
    "\n",
    "# instead of manysearch: fastgather?\n",
    "sourmash scripts fastgather ../../metag_signatures/ERR3211942.zip \\\n",
    "/group/ctbrowngrp2/amhorst/2025-vsmash/results/pig_votus/sketches/pig_votus.dnakmer.zip \\\n",
    "-o ERR3211942.csv -k 21 -s 100 -t 10"
   ]
  },
  {
   "cell_type": "code",
   "execution_count": null,
   "metadata": {
    "vscode": {
     "languageId": "shellscript"
    }
   },
   "outputs": [],
   "source": []
  }
 ],
 "metadata": {
  "language_info": {
   "name": "python"
  }
 },
 "nbformat": 4,
 "nbformat_minor": 2
}
