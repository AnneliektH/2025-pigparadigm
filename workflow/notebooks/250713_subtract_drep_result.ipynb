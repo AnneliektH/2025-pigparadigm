{
 "cells": [
  {
   "cell_type": "markdown",
   "id": "8f7d0442",
   "metadata": {},
   "source": [
    "## Compare the dereplicated sketches, to see how many hashvalues get lost during dereplication\n",
    "We need to compare within our pig gut MAGs, but also between the pig gut MAGs and GDTB (all and reps)\n",
    "\n",
    "\n",
    "TODO:\n",
    "- Subtract 99 from all (unique in all)\n",
    "- Subtract 95 from 95 (unique in strains, removed at species)\n",
    "- Subtract all from GTDB-genomes (how much new content did we actually find)\n",
    "- Subtract all from GTDB-reps (how does that reflect in species representatives)\n",
    "- Subtract 99 from GTDB-reps. (how would it look if we add our strain representatitves)\n",
    "\n",
    "\n",
    "Get for each signature the total number of hashes. \n"
   ]
  },
  {
   "cell_type": "code",
   "execution_count": null,
   "id": "a6f84ca8",
   "metadata": {
    "vscode": {
     "languageId": "shellscript"
    }
   },
   "outputs": [],
   "source": [
    "# srun it\n",
    "srun --account=ctbrowngrp -p med2 -J subtract -t 8:00:00 -c 2 --mem=80gb --pty bash\n"
   ]
  },
  {
   "cell_type": "code",
   "execution_count": null,
   "id": "a3b6e783",
   "metadata": {
    "vscode": {
     "languageId": "shellscript"
    }
   },
   "outputs": [],
   "source": [
    "\n",
    "\n",
    "# ../sketches/MAGs.95.merged.zip\n",
    "# ../sketches/MAGs.99.merged.zip\n",
    "# ../sketches/MAGs.all.merged.zip\n",
    "# /group/ctbrowngrp5/sourmash-db/gtdb-rs226/gtdb-rs226.k21.rocksdb\n",
    "# ../compare_gtdb_mags/gtdb-rs226.pangenomedb.10k.zip\n",
    "\n",
    "\n"
   ]
  },
  {
   "cell_type": "code",
   "execution_count": null,
   "id": "a4c92f14",
   "metadata": {
    "vscode": {
     "languageId": "shellscript"
    }
   },
   "outputs": [],
   "source": [
    "sourmash sig fileinfo *.zip > desciptions_subtract.txt\n",
    "sourmash sig fileinfo ../sketches/*.pangenomedb*.zip > descriptions_MAG.txt\n",
    "sourmash sig fileinfo ../compare_gtdb_mags/*.pangenomedb*.zip > descriptions_gtdb.txt\n"
   ]
  },
  {
   "cell_type": "code",
   "execution_count": null,
   "id": "b25a3fdc",
   "metadata": {
    "vscode": {
     "languageId": "shellscript"
    }
   },
   "outputs": [],
   "source": [
    "# need to downsample to 10k\n",
    "sourmash signature downsample --scaled 10000 \\\n",
    "MAGs.all.pangenomedb.zip -o MAGs.all.pangenomedb.10k.zip"
   ]
  },
  {
   "cell_type": "code",
   "execution_count": null,
   "id": "042a7ae0",
   "metadata": {
    "vscode": {
     "languageId": "shellscript"
    }
   },
   "outputs": [],
   "source": [
    "# in results/sourmash_subtract/\n",
    "# activate\n",
    "mamba activate branchwater-skipmer\n",
    "\n",
    "# subtractions (99 from all):\n",
    "sourmash signature subtract --flatten \\\n",
    "../sketches/MAGs.99.merged.zip \\\n",
    "../sketches/MAGs.95.merged.zip -o MAGs.99_sub_95.zip\n",
    "\n",
    "# subtractions (95 from 99):\n",
    "sourmash signature subtract --flatten \\\n",
    "../sketches/MAGs.all.merged.zip \\\n",
    "../sketches/MAGs.99.merged.zip -o MAGs.all_sub_99.zip\n",
    "\n",
    "\n",
    "# subtractions (all from GTDB-reps):\n",
    "sourmash signature subtract --flatten \\\n",
    "../sketches/MAGs.all.merged.zip \\\n",
    "/group/ctbrowngrp5/sourmash-db/gtdb-rs226/gtdb-rs226-reps.k21.rocksdb \\\n",
    "-o MAGs.all_subGTDB-reps.zip\n",
    "\n",
    "# subtractions (99 from GTDB-reps):\n",
    "sourmash signature subtract --flatten \\\n",
    "../sketches/MAGs.99.merged.zip \\\n",
    "/group/ctbrowngrp5/sourmash-db/gtdb-rs226/gtdb-rs226-reps.k21.rocksdb \\\n",
    "-o MAGs.99_subGTDB-reps.zip\n",
    "\n",
    "sourmash signature subtract --flatten \\\n",
    "../sketches/MAGs.all.merged.zip \\\n",
    "/group/ctbrowngrp5/sourmash-db/gtdb-rs226/gtdb-rs226-reps.k21.rocksdb \\\n",
    "-o MAGs.all_subGTDB-reps.zip\n",
    "\n",
    "sourmash signature subtract --flatten \\\n",
    "../sketches/MAGs.all.merged.zip \\\n",
    "/group/ctbrowngrp5/sourmash-db/gtdb-rs226/gtdb-rs226.k21.rocksdb \\\n",
    "-o MAGs.all_subGTDB-genomes.zip\n",
    "\n",
    "sourmash signature subtract --flatten \\\n",
    "MAGs.all_k31.merged.zip \\\n",
    "/group/ctbrowngrp5/sourmash-db/gtdb-rs226/gtdb-rs226.k31.rocksdb \\\n",
    "-o MAGs.all_subGTDB-genomes.k31.zip\n",
    "\n",
    "# # subtractions (99 from GTDB-reps):\n",
    "# sourmash signature subtract --flatten \\\n",
    "# ../sketches/MAGs.99.pangenomedb.10k.zip \\\n",
    "# ../compare_gtdb_mags/gtdb-rs226-reps.pangenomedb.10k.zip -o GTDB.reps_sub_99.zip"
   ]
  },
  {
   "cell_type": "markdown",
   "id": "6175609f",
   "metadata": {},
   "source": [
    "# Same thing for K31\n",
    "- ONLY MAGs and GTDB genomes. I don't care about the rest\n"
   ]
  },
  {
   "cell_type": "code",
   "execution_count": null,
   "id": "cc0c1e44",
   "metadata": {
    "vscode": {
     "languageId": "shellscript"
    }
   },
   "outputs": [],
   "source": [
    "sourmash signature subtract --flatten \\\n",
    "MAGs.all_k31.merged.zip \\\n",
    "/group/ctbrowngrp5/sourmash-db/gtdb-rs226/gtdb-rs226.k31.rocksdb \\\n",
    "-o MAGs.all_subGTDB-genomes.k31.zip\n",
    "\n",
    " sourmash sig fileinfo /group/ctbrowngrp5/sourmash-db/gtdb-rs226/gtdb-rs226.k31.rocksdb \n",
    "\n",
    "\n",
    " "
   ]
  },
  {
   "cell_type": "code",
   "execution_count": null,
   "id": "f39fadd1",
   "metadata": {
    "vscode": {
     "languageId": "shellscript"
    }
   },
   "outputs": [],
   "source": [
    " sourmash sig fileinfo /group/ctbrowngrp5/sourmash-db/gtdb-rs226/gtdb-rs226.k21.rocksdb\n",
    "\n",
    "== This is sourmash version 4.9.0. ==\n",
    "== Please cite Irber et. al (2024), doi:10.21105/joss.06830. ==\n",
    "\n",
    "** loading from '/group/ctbrowngrp5/sourmash-db/gtdb-rs226/gtdb-rs226.k21.rocksdb'\n",
    "path filetype: DiskRevIndex\n",
    "location: /group/ctbrowngrp5/sourmash-db/gtdb-rs226/gtdb-rs226.k21.rocksdb\n",
    "is database? yes\n",
    "has manifest? yes\n",
    "num signatures: 732034\n",
    "** examining manifest...\n",
    "total hashes: 2558709572\n",
    "summary of sketches:\n",
    "   732034 sketches with DNA, k=21, scaled=1000        2558709572 total hashes\n",
    "\n"
   ]
  },
  {
   "cell_type": "code",
   "execution_count": null,
   "id": "a9599c14",
   "metadata": {
    "vscode": {
     "languageId": "shellscript"
    }
   },
   "outputs": [],
   "source": [
    "sourmash sig fileinfo /group/ctbrowngrp5/sourmash-db/gtdb-rs226/gtdb-rs226-reps.k21.rocksdb\n",
    "\n",
    "== This is sourmash version 4.9.0. ==\n",
    "== Please cite Irber et. al (2024), doi:10.21105/joss.06830. ==\n",
    "\n",
    "** loading from '/group/ctbrowngrp5/sourmash-db/gtdb-rs226/gtdb-rs226-reps.k21.rocksdb'\n",
    "path filetype: DiskRevIndex\n",
    "location: /group/ctbrowngrp5/sourmash-db/gtdb-rs226/gtdb-rs226-reps.k21.rocksdb\n",
    "is database? yes\n",
    "has manifest? yes\n",
    "num signatures: 143384\n",
    "** examining manifest...\n",
    "total hashes: 459545970\n",
    "summary of sketches:\n",
    "   143384 sketches with DNA, k=21, scaled=1000        459545970 total hashes"
   ]
  },
  {
   "cell_type": "code",
   "execution_count": null,
   "id": "2052cc45",
   "metadata": {
    "vscode": {
     "languageId": "shellscript"
    }
   },
   "outputs": [],
   "source": [
    "sourmash sig fileinfo MAGs.all_subGTDB-genomes.zip\n",
    "\n",
    "== This is sourmash version 4.9.0. ==\n",
    "== Please cite Irber et. al (2024), doi:10.21105/joss.06830. ==\n",
    "\n",
    "** loading from 'MAGs.all_subGTDB-genomes.zip'\n",
    "path filetype: ZipFileLinearIndex\n",
    "location: /group/ctbrowngrp2/amhorst/2025-pigparadigm/results/sourmash_subtract/MAGs.all_subGTDB-genomes.zip\n",
    "is database? yes\n",
    "has manifest? yes\n",
    "num signatures: 1\n",
    "** examining manifest...\n",
    "total hashes: 563753\n",
    "summary of sketches:\n",
    "   1 sketches with DNA, k=21, scaled=1000             563753 total hashes"
   ]
  },
  {
   "cell_type": "code",
   "execution_count": null,
   "id": "e73b145b",
   "metadata": {
    "vscode": {
     "languageId": "shellscript"
    }
   },
   "outputs": [],
   "source": [
    "sourmash sig fileinfo MAGs.all_subGTDB-reps.zip\n",
    "\n",
    "== This is sourmash version 4.9.0. ==\n",
    "== Please cite Irber et. al (2024), doi:10.21105/joss.06830. ==\n",
    "\n",
    "** loading from 'MAGs.all_subGTDB-reps.zip'\n",
    "path filetype: ZipFileLinearIndex\n",
    "location: /group/ctbrowngrp2/amhorst/2025-pigparadigm/results/sourmash_subtract/MAGs.all_subGTDB-reps.zip\n",
    "is database? yes\n",
    "has manifest? yes\n",
    "num signatures: 1\n",
    "** examining manifest...\n",
    "total hashes: 1100427\n",
    "summary of sketches:\n",
    "   1 sketches with DNA, k=21, scaled=1000             1100427 total hashes\n",
    "(branchwater-skipmer) amhorst@cpu-3-51:/group/ctbrowngrp2/amhorst/2025-pigparadigm/results/sourmash_subtract$ "
   ]
  }
 ],
 "metadata": {
  "language_info": {
   "name": "python"
  }
 },
 "nbformat": 4,
 "nbformat_minor": 5
}
