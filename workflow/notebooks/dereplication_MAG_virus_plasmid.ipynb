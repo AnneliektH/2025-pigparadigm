{
 "cells": [
  {
   "cell_type": "markdown",
   "id": "a4b68795",
   "metadata": {},
   "source": [
    "### Have to derep the MAGs\n",
    "- At strain level (99%)\n",
    "- At Species level (95%)\n",
    "\n",
    "Total number of current MAGs (810 SRAs) 10,544\n",
    "\n",
    "For drep quality file:\n",
    "- https://drep.readthedocs.io/en/master/advanced_use.html#using-external-genome-quality-information\n",
    "- https://github.com/MrOlm/drep/issues/220\n",
    "- https://genomicsaotearoa.github.io/metagenomics_summer_school/resources/1_APPENDIX_ex8_Dereplication/#step-3\n",
    "\n"
   ]
  },
  {
   "cell_type": "code",
   "execution_count": null,
   "id": "f3b74476",
   "metadata": {
    "vscode": {
     "languageId": "shellscript"
    }
   },
   "outputs": [],
   "source": [
    "# MAG location:\n",
    "/group/ctbrowngrp2/scratch/annie/2023-swine-sra/results/MAGs/genomes/all_genomes/*.fasta\n",
    "# quality report location:\n",
    "/group/ctbrowngrp2/scratch/annie/2023-swine-sra/results/MAGs/250410_mag_quality.tsv\n",
    "\n",
    "### Quality file for dRep:\n",
    "awk -F'\\t' 'BEGIN {OFS=\",\"} {print $1, $2, $4}' /group/ctbrowngrp2/scratch/annie/2023-swine-sra/results/MAGs/250410_mag_quality.tsv > 250410_mag_qual.drep.csv\n",
    "\n",
    "# In the new file convert headings to: genome,completeness,contamination\n",
    "# drep also needs the trailing .fasta \n",
    "echo \"genome,completeness,contamination\" > 250411_dRep.genomeInfo\n",
    "cut -f1,2,4 /group/ctbrowngrp2/scratch/annie/2023-swine-sra/results/MAGs/250411_mag_quality.tsv | sed 's/\\t/.fasta\\t/' | sed 's/\\t/,/g' | tail -n+2 >> 250411_dRep.genomeInfo"
   ]
  },
  {
   "cell_type": "code",
   "execution_count": null,
   "id": "638308e4",
   "metadata": {
    "vscode": {
     "languageId": "shellscript"
    }
   },
   "outputs": [],
   "source": [
    "# use drep\n",
    "srun --account=ctbrowngrp -p high2 -J drep -t 15:00:00 -c 32 --mem=80gb --pty bash\n",
    "\n",
    "mamba activate drep\n",
    "dRep dereplicate \\\n",
    "drep.95 \\\n",
    "--genomeInfo 250411_dRep.genomeInfo \\\n",
    "-p 32 \\\n",
    "-g /group/ctbrowngrp2/scratch/annie/2023-swine-sra/results/MAGs/genomes/all_genomes/*.fasta \\\n",
    "-pa 0.9 -sa 0.95 -nc 0.30 -cm larger \\\n",
    "-comp 50 -con 10 -l 1000 \n"
   ]
  },
  {
   "cell_type": "code",
   "execution_count": null,
   "id": "031e045e",
   "metadata": {
    "vscode": {
     "languageId": "shellscript"
    }
   },
   "outputs": [],
   "source": [
    "# make sourmash zip and index as rocksdb\n",
    "srun --account=ctbrowngrp -p high2 -J indexdb -t 5:00:00 -c 1 --mem=50gb --pty bash\n",
    "\n",
    "sourmash index MAGs.99.k21.rocksdb -F rocksdb -k 21 *.zip"
   ]
  },
  {
   "cell_type": "markdown",
   "id": "6be9bb3d",
   "metadata": {},
   "source": [
    "### Dereplicating viruses and plasmids:\n",
    "- 1,249,984 viral sequences --> 446,191 clusters\n",
    "- 425,836 plasmids --> 168,278 clusters\n"
   ]
  },
  {
   "cell_type": "code",
   "execution_count": null,
   "metadata": {
    "vscode": {
     "languageId": "shellscript"
    }
   },
   "outputs": [],
   "source": [
    "# first remove all contigs with a viral score < 0.9\n",
    "# then concat\n",
    "cat /group/ctbrowngrp2/scratch/annie/2023-swine-sra/results/genomad/viral/*rename.fa > 250418_vi\n",
    "ral_sequences.genomad.fa\n",
    "\n",
    "cat /group/ctbrowngrp2/scratch/annie/2023-swine-sra/results/genomad/plasmid/*rename.fa > 250418_plasmid_sequences.genomad.fa\n",
    "# then drep"
   ]
  },
  {
   "cell_type": "code",
   "execution_count": null,
   "id": "6f455458",
   "metadata": {
    "vscode": {
     "languageId": "shellscript"
    }
   },
   "outputs": [],
   "source": [
    "# drep doesnt work, too many contigs. Use cdhit\n",
    "# and sort it by length \n",
    "mamba activate bbmap\n",
    "sortbyname.sh in=250418_plasmid_sequences.genomad.fa \\\n",
    "out=250418_plasmid_sequences.genomad.sort.fa length=descending\n",
    "\n",
    "# run cdhit\n",
    "mamba activate cdhit\n",
    "cd-hit-est -i 250418_plasmid_sequences.genomad.sort.fa \\\n",
    "-o 250419_plasmid_sequences.95.cluster.fa -d 0 \\\n",
    "-c 0.95 -aS 0.85 -M 95000 -T 48"
   ]
  },
  {
   "cell_type": "code",
   "execution_count": null,
   "id": "04f321e9",
   "metadata": {
    "vscode": {
     "languageId": "shellscript"
    }
   },
   "outputs": [],
   "source": [
    "mamba activate bbmap\n",
    "sortbyname.sh in=250418_viral_sequences.genomad.fa \\\n",
    "out=250418_viral_sequences.genomad.sort.fa length=descending\n",
    "\n",
    "# run cdhit\n",
    "mamba activate cdhit\n",
    "cd-hit-est -i 250418_viral_sequences.genomad.sort.fa \\\n",
    "-o 250419_viral_sequences.95.cluster.fa -d 0 \\\n",
    "-c 0.95 -aS 0.85 -M 98000 -T 48"
   ]
  },
  {
   "cell_type": "code",
   "execution_count": null,
   "id": "195e16a5",
   "metadata": {
    "vscode": {
     "languageId": "shellscript"
    }
   },
   "outputs": [],
   "source": [
    "# drep code (too many seqs for drep)\n",
    "# split contigs into individual fastas (dRep accepts individual contigs only)\n",
    "mkdir contigs\n",
    "cd ./contigs\n",
    "awk '/^>/ {OUT=substr($0,2) \".fa\"}; OUT {print >OUT}' ../250418_viral_sequences.genomad.fa \n",
    "\n",
    "# can also do with seqkit\n",
    "srun --account=ctbrowngrp -p bmh -J drep_vir -t 1:00:00 -c 4 --mem=40gb --pty bash\n",
    "\n",
    "mamba activate seqkit\n",
    "seqkit split -i -f your_multifasta.fasta\n",
    "\n",
    "\n",
    "srun --account=ctbrowngrp -p bmh -J drep_vir -t 40:00:00 -c 48 --mem=100gb --pty bash\n",
    "srun --account=ctbrowngrp -p high2 -J drep_plasmid -t 24:00:00 -c 48 --mem=100gb --pty bash\n",
    "\n",
    "\n",
    "mamba activate dRep\n",
    "# Run dRep at 95% ANI over 85% of length of longest contigs\n",
    "dRep dereplicate ./drep --S_algorithm ANImf \\\n",
    "--ignoreGenomeQuality -l 10000 -sa 0.95 -nc 0.85 \\\n",
    "-g ./250418_viral_sequences.genomad.fa.split/*.fa -p 48\n",
    "\n",
    "\n",
    "dRep dereplicate ./drep --S_algorithm ANImf \\\n",
    "--ignoreGenomeQuality -l 500 -sa 0.95 -nc 0.85 \\\n",
    "-g ./250418_plasmid_sequences.genomad.fa.split/*.fa -p 48"
   ]
  },
  {
   "cell_type": "code",
   "execution_count": null,
   "id": "55a66d1b",
   "metadata": {
    "vscode": {
     "languageId": "shellscript"
    }
   },
   "outputs": [],
   "source": [
    "# cdhit the contigs that are MAGS AND plasmids\n",
    "# run cdhit\n",
    "mamba activate cdhit\n",
    "cd-hit-est -i 250418_viral_sequences.genomad.sort.fa \\\n",
    "-o 250419_viral_sequences.95.cluster.fa -d 0 \\\n",
    "-c 0.95 -aS 0.85 -M 98000 -T 48\n",
    "\n"
   ]
  },
  {
   "cell_type": "code",
   "execution_count": null,
   "id": "ae8a76bf",
   "metadata": {
    "vscode": {
     "languageId": "shellscript"
    }
   },
   "outputs": [],
   "source": [
    "\n",
    "srun --account=ctbrowngrp -p bmh -J drep -t 4:00:00 -c 32 --mem=100gb --pty bash\n",
    "\n",
    "cd-hit-est-2d -i ../../drep/drep.95/all_contigs.fa \\\n",
    "-i2 250419_plasmid_sequences.95.cluster.fa \\\n",
    "-o 250422_novel_plasmid.fa -d 0 \\\n",
    "-c 1 -aS 0.95 -M 79000 -T 32"
   ]
  }
 ],
 "metadata": {
  "language_info": {
   "name": "python"
  }
 },
 "nbformat": 4,
 "nbformat_minor": 5
}
