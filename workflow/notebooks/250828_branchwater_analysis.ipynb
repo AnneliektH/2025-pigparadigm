{
 "cells": [
  {
   "cell_type": "markdown",
   "id": "6a934105",
   "metadata": {},
   "source": [
    "## Species abundant in pig, what else do they occur in?\n",
    "\n",
    "https://github.com/sourmash-bio/branchwater/blob/bdb92395c673bd444abf76ceed107b3c781f8395/crates/client/README.md?plain=1#L16\n",
    "https://github.com/sourmash-bio/branchwater/releases/tag/v0.3.0"
   ]
  },
  {
   "cell_type": "code",
   "execution_count": null,
   "id": "03af95f3",
   "metadata": {
    "vscode": {
     "languageId": "powershell"
    }
   },
   "outputs": [],
   "source": [
    "# update branchwater for CLI\n",
    "mamba activate branchwater\n",
    "mamba update -n branchwater sourmash_plugin_branchwater\n",
    "\n",
    "# install branchwater client\n",
    "curl --proto '=https' --tlsv1.2 -LsSf https://github.com/sourmash-bio/branchwater/releases/download/v0.3.0/branchwater-client-installer.sh | sh\n",
    "\n",
    "\n",
    "\n",
    "# install branchwater server\n",
    "curl --proto '=https' --tlsv1.2 -LsSf https://github.com/sourmash-bio/branchwater/releases/download/v0.3.0/branchwater-server-installer.sh | sh\n",
    "\n",
    "# install branchwater index \n",
    "curl --proto '=https' --tlsv1.2 -LsSf https://github.com/sourmash-bio/branchwater/releases/download/v0.3.0/branchwater-index-installer.sh | sh\n",
    "\n",
    "\n",
    "To add $HOME/.cargo/bin to your PATH, either restart your shell or run:\n",
    "\n",
    "    source $HOME/.cargo/env (sh, bash, zsh)\n",
    "    source $HOME/.cargo/env.fish (fish)"
   ]
  },
  {
   "cell_type": "code",
   "execution_count": null,
   "id": "30b07efb",
   "metadata": {
    "vscode": {
     "languageId": "powershell"
    }
   },
   "outputs": [],
   "source": [
    "# how does this work. \n",
    "# Can use --sig, k21 and scaled 1000\n",
    "# take bariatricus_sp004560705 as example, 68 MAGs. Merged sig? Doesnt say, can try both\n",
    "bariatricus_sp004560705"
   ]
  },
  {
   "cell_type": "code",
   "execution_count": null,
   "id": "ad96b1d7",
   "metadata": {
    "vscode": {
     "languageId": "powershell"
    }
   },
   "outputs": [],
   "source": [
    "# simplest thing we can do\n",
    "# this should be a merged sig (yes, 1 sketches with DNA, k=21, scaled=1000, 22594 total hashes)\n",
    "sourmash sketch dna MAGs/*.fasta \\\n",
    "-p k=21,scaled=1000 --name \"bariatricus_sp004560705\" -o bariatricus_sp004560705.allmerged.sig\n",
    "\n",
    "# this MAGs individually (68 sketches with DNA, k=21, scaled=1000, 172747 total hashe)\n",
    "sourmash sketch dna MAGs/*.fasta \\\n",
    "-p k=21,scaled=1000 -o bariatricus_sp004560705.all.sig"
   ]
  },
  {
   "cell_type": "code",
   "execution_count": null,
   "id": "b6d22258",
   "metadata": {
    "vscode": {
     "languageId": "powershell"
    }
   },
   "outputs": [],
   "source": [
    "# now branchwater. \n",
    "srun --account=ctbrowngrp -p bmm -J branchwater -t 2:00:00 -c 1 --mem=10gb --pty bash\n",
    "mamba activate branchwater\n",
    "\n",
    "\n",
    "branchwater-client --sig bariatricus_sp004560705.allmerged.sig \\\n",
    "-o bariatricus_sp004560705.branchwater.csv \n"
   ]
  }
 ],
 "metadata": {
  "language_info": {
   "name": "python"
  }
 },
 "nbformat": 4,
 "nbformat_minor": 5
}
