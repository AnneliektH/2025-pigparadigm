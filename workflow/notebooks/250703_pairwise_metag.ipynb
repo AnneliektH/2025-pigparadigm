{
 "cells": [
  {
   "cell_type": "markdown",
   "id": "26526716",
   "metadata": {},
   "source": [
    "## Compare all metags\n",
    "- 3127 metagenomes and I want a pca or nmds\n",
    "- need to do pairwise cmparison first"
   ]
  },
  {
   "cell_type": "code",
   "execution_count": null,
   "id": "4fc2161f",
   "metadata": {
    "vscode": {
     "languageId": "shellscript"
    }
   },
   "outputs": [],
   "source": [
    "srun --account=ctbrowngrp -p high2 -J pw -t 15:00:00 -c 48 --mem=100gb --pty bash\n",
    "\n",
    "mamba activate branchwater-skipmer\n",
    "sourmash scripts pairwise \\\n",
    "/group/ctbrowngrp2/amhorst/2025-pigparadigm/resources/3217_metag.txt \\\n",
    "-s 1000 -k 21 -c 48 -o 3217_pairwise.csv"
   ]
  },
  {
   "cell_type": "code",
   "execution_count": null,
   "id": "5d06e6e0",
   "metadata": {
    "vscode": {
     "languageId": "shellscript"
    }
   },
   "outputs": [],
   "source": [
    "# pairwise to plot using betterplot\n",
    "srun --account=ctbrowngrp -p high2 -J pw -t 15:00:00 -c 1 --mem=80gb --pty bash\n",
    "# command\n",
    "mamba activate branchwater-skipmer\n",
    "sourmash scripts mds2 3217_pairwise.csv \\\n",
    "-o mds2.3217.cmp.pdf \\\n",
    "-C 3217_meta.csv"
   ]
  },
  {
   "cell_type": "code",
   "execution_count": null,
   "id": "efd46589",
   "metadata": {
    "vscode": {
     "languageId": "shellscript"
    }
   },
   "outputs": [],
   "source": [
    "# convert pairwise (this may not be needed)\n",
    "sourmash scripts pairwise_to_matrix 10sketches.pairwise.csv \\\n",
    "    -o 10sketches.pairwise.cmp \\\n",
    "    --labels-to 10sketches.pairwise.cmp.labels_to.csv\n",
    "    \n",
    "# plot!\n",
    "sourmash scripts plot2 10sketches.pairwise.cmp \\\n",
    "    10sketches.pairwise.cmp.labels_to.csv \\\n",
    "    -o plot2.pairwise.10sketches.cmp.png\n",
    "\n",
    "    sourmash scripts mds 10sketches.cmp 10sketches.cmp.labels_to.csv \\\n",
    "    -o mds.10sketches.cmp.png \\\n",
    "    -C sketches/10sketches-categories.csv"
   ]
  }
 ],
 "metadata": {
  "language_info": {
   "name": "python"
  }
 },
 "nbformat": 4,
 "nbformat_minor": 5
}
