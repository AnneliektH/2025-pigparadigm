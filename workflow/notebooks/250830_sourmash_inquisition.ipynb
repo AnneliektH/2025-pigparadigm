{
 "cells": [
  {
   "cell_type": "markdown",
   "id": "61299fa3",
   "metadata": {},
   "source": [
    "#### What about metagenomes without E. coli\n",
    "- 6 metaGs wo E. coli\n",
    "- Obviously these still have E. coli (checked with gather x just E.coli signature)\n",
    "\n",
    "\n",
    "Take the metagenome 'SRR606249', the query genome '47.fa.sig', and the gather results against 'podar-ref.zip', and show relevant overlaps between the query genome and genomes found by gather.\n",
    "\n",
    "In this case it would be metagenome SRR11125633\n"
   ]
  },
  {
   "cell_type": "code",
   "execution_count": null,
   "id": "8b521b21",
   "metadata": {
    "vscode": {
     "languageId": "powershell"
    }
   },
   "outputs": [],
   "source": [
    "# in: /group/ctbrowngrp2/amhorst/2025-pigparadigm/results/sourmash_inq\n",
    "# tekes one sig\n",
    "sourmash sig merge Escherichia_coli.all.zip -k 31 -o Escherichia_coli.merge.zip --flatten\n"
   ]
  },
  {
   "cell_type": "code",
   "execution_count": null,
   "id": "5f48d491",
   "metadata": {
    "vscode": {
     "languageId": "powershell"
    }
   },
   "outputs": [],
   "source": [
    "sourmash search --containment \\\n",
    "Escherichia_coli/sourmash/Escherichia_coli.10kmerge.zip  \\\n",
    "SRR11125633.10k.sig --threshold=0"
   ]
  },
  {
   "cell_type": "code",
   "execution_count": null,
   "id": "2c74e0c3",
   "metadata": {
    "vscode": {
     "languageId": "powershell"
    }
   },
   "outputs": [],
   "source": [
    "# sig that does not have ecoli\n",
    "# no e coli reported \n",
    "python inquisite.py \\\n",
    "Escherichia_coli/sourmash/Escherichia_coli.10kmerge.zip \\\n",
    "SRR11125633.10k.sig \\\n",
    "/group/ctbrowngrp2/amhorst/2025-pigparadigm/results/sourmash_pangenome/gather/SRR11125633.gtdb.csv \\\n",
    "/group/ctbrowngrp2/amhorst/2025-pigparadigm/results/gtdb_pangenomedb/gtdb-rs226.pangenomedb_species.10k.zip\n",
    "\n",
    "# do with sig were sure has ecoli (literally any of them, SRR11183635 )\n",
    "# this one does report E. coli\n",
    "python inquisite.py \\\n",
    "Escherichia_coli/sourmash/Escherichia_coli.10kmerge.zip \\\n",
    "SRR11183635.10k.sig \\\n",
    "/group/ctbrowngrp2/amhorst/2025-pigparadigm/results/sourmash_pangenome/gather/SRR11183635.gtdb.csv \\\n",
    "/group/ctbrowngrp2/amhorst/2025-pigparadigm/results/gtdb_pangenomedb/gtdb-rs226.pangenomedb_species.10k.zip\n"
   ]
  },
  {
   "cell_type": "code",
   "execution_count": null,
   "id": "80ac0c5e",
   "metadata": {
    "vscode": {
     "languageId": "powershell"
    }
   },
   "outputs": [],
   "source": [
    "# downscale some sigs\n",
    "sourmash sig downsample /group/ctbrowngrp/irber/data/wort-data/wort-sra/sigs/SRR11125633.sig \\\n",
    "--scaled 10000 -o SRR11125633.10k.sig\n",
    "\n",
    "sourmash sig downsample Escherichia_coli/sourmash/Escherichia_coli.merge.zip  \\\n",
    "--scaled 10000 -o Escherichia_coli/sourmash/Escherichia_coli.10kmerge.zip "
   ]
  }
 ],
 "metadata": {
  "language_info": {
   "name": "python"
  }
 },
 "nbformat": 4,
 "nbformat_minor": 5
}
